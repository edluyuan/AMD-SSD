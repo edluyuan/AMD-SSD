{
 "cells": [
  {
   "cell_type": "code",
   "execution_count": 1,
   "metadata": {},
   "outputs": [
    {
     "name": "stdout",
     "output_type": "stream",
     "text": [
      "Requirement already satisfied: pandas in /home/quanta/.conda/envs/forl-proj/lib/python3.10/site-packages (2.0.2)\n",
      "Requirement already satisfied: seaborn in /home/quanta/.conda/envs/forl-proj/lib/python3.10/site-packages (0.12.2)\n",
      "Requirement already satisfied: tbparse in /home/quanta/.conda/envs/forl-proj/lib/python3.10/site-packages (0.0.7)\n",
      "Requirement already satisfied: python-dateutil>=2.8.2 in /home/quanta/.conda/envs/forl-proj/lib/python3.10/site-packages (from pandas) (2.8.2)\n",
      "Requirement already satisfied: tzdata>=2022.1 in /home/quanta/.conda/envs/forl-proj/lib/python3.10/site-packages (from pandas) (2023.3)\n",
      "Requirement already satisfied: pytz>=2020.1 in /home/quanta/.conda/envs/forl-proj/lib/python3.10/site-packages (from pandas) (2023.3)\n",
      "Requirement already satisfied: numpy>=1.21.0 in /home/quanta/.conda/envs/forl-proj/lib/python3.10/site-packages (from pandas) (1.24.3)\n",
      "Requirement already satisfied: matplotlib!=3.6.1,>=3.1 in /home/quanta/.conda/envs/forl-proj/lib/python3.10/site-packages (from seaborn) (3.7.1)\n",
      "Requirement already satisfied: tensorboard>=2.0.0 in /home/quanta/.conda/envs/forl-proj/lib/python3.10/site-packages (from tbparse) (2.13.0)\n",
      "Requirement already satisfied: cycler>=0.10 in /home/quanta/.conda/envs/forl-proj/lib/python3.10/site-packages (from matplotlib!=3.6.1,>=3.1->seaborn) (0.11.0)\n",
      "Requirement already satisfied: pillow>=6.2.0 in /home/quanta/.conda/envs/forl-proj/lib/python3.10/site-packages (from matplotlib!=3.6.1,>=3.1->seaborn) (9.5.0)\n",
      "Requirement already satisfied: contourpy>=1.0.1 in /home/quanta/.conda/envs/forl-proj/lib/python3.10/site-packages (from matplotlib!=3.6.1,>=3.1->seaborn) (1.0.7)\n",
      "Requirement already satisfied: packaging>=20.0 in /home/quanta/.conda/envs/forl-proj/lib/python3.10/site-packages (from matplotlib!=3.6.1,>=3.1->seaborn) (23.1)\n",
      "Requirement already satisfied: pyparsing>=2.3.1 in /home/quanta/.conda/envs/forl-proj/lib/python3.10/site-packages (from matplotlib!=3.6.1,>=3.1->seaborn) (3.0.9)\n",
      "Requirement already satisfied: kiwisolver>=1.0.1 in /home/quanta/.conda/envs/forl-proj/lib/python3.10/site-packages (from matplotlib!=3.6.1,>=3.1->seaborn) (1.4.4)\n",
      "Requirement already satisfied: fonttools>=4.22.0 in /home/quanta/.conda/envs/forl-proj/lib/python3.10/site-packages (from matplotlib!=3.6.1,>=3.1->seaborn) (4.39.4)\n",
      "Requirement already satisfied: six>=1.5 in /home/quanta/.conda/envs/forl-proj/lib/python3.10/site-packages (from python-dateutil>=2.8.2->pandas) (1.16.0)\n",
      "Requirement already satisfied: setuptools>=41.0.0 in /home/quanta/.conda/envs/forl-proj/lib/python3.10/site-packages (from tensorboard>=2.0.0->tbparse) (67.8.0)\n",
      "Requirement already satisfied: google-auth-oauthlib<1.1,>=0.5 in /home/quanta/.conda/envs/forl-proj/lib/python3.10/site-packages (from tensorboard>=2.0.0->tbparse) (1.0.0)\n",
      "Requirement already satisfied: wheel>=0.26 in /home/quanta/.conda/envs/forl-proj/lib/python3.10/site-packages (from tensorboard>=2.0.0->tbparse) (0.38.4)\n",
      "Requirement already satisfied: requests<3,>=2.21.0 in /home/quanta/.conda/envs/forl-proj/lib/python3.10/site-packages (from tensorboard>=2.0.0->tbparse) (2.31.0)\n",
      "Requirement already satisfied: tensorboard-data-server<0.8.0,>=0.7.0 in /home/quanta/.conda/envs/forl-proj/lib/python3.10/site-packages (from tensorboard>=2.0.0->tbparse) (0.7.0)\n",
      "Requirement already satisfied: protobuf>=3.19.6 in /home/quanta/.conda/envs/forl-proj/lib/python3.10/site-packages (from tensorboard>=2.0.0->tbparse) (3.20.3)\n",
      "Requirement already satisfied: absl-py>=0.4 in /home/quanta/.conda/envs/forl-proj/lib/python3.10/site-packages (from tensorboard>=2.0.0->tbparse) (1.4.0)\n",
      "Requirement already satisfied: markdown>=2.6.8 in /home/quanta/.conda/envs/forl-proj/lib/python3.10/site-packages (from tensorboard>=2.0.0->tbparse) (3.4.3)\n",
      "Requirement already satisfied: werkzeug>=1.0.1 in /home/quanta/.conda/envs/forl-proj/lib/python3.10/site-packages (from tensorboard>=2.0.0->tbparse) (2.3.5)\n",
      "Requirement already satisfied: grpcio>=1.48.2 in /home/quanta/.conda/envs/forl-proj/lib/python3.10/site-packages (from tensorboard>=2.0.0->tbparse) (1.54.2)\n",
      "Requirement already satisfied: google-auth<3,>=1.6.3 in /home/quanta/.conda/envs/forl-proj/lib/python3.10/site-packages (from tensorboard>=2.0.0->tbparse) (2.19.1)\n",
      "Requirement already satisfied: pyasn1-modules>=0.2.1 in /home/quanta/.conda/envs/forl-proj/lib/python3.10/site-packages (from google-auth<3,>=1.6.3->tensorboard>=2.0.0->tbparse) (0.3.0)\n",
      "Requirement already satisfied: rsa<5,>=3.1.4 in /home/quanta/.conda/envs/forl-proj/lib/python3.10/site-packages (from google-auth<3,>=1.6.3->tensorboard>=2.0.0->tbparse) (4.9)\n",
      "Requirement already satisfied: cachetools<6.0,>=2.0.0 in /home/quanta/.conda/envs/forl-proj/lib/python3.10/site-packages (from google-auth<3,>=1.6.3->tensorboard>=2.0.0->tbparse) (5.3.1)\n",
      "Requirement already satisfied: urllib3<2.0 in /home/quanta/.conda/envs/forl-proj/lib/python3.10/site-packages (from google-auth<3,>=1.6.3->tensorboard>=2.0.0->tbparse) (1.26.16)\n",
      "Requirement already satisfied: requests-oauthlib>=0.7.0 in /home/quanta/.conda/envs/forl-proj/lib/python3.10/site-packages (from google-auth-oauthlib<1.1,>=0.5->tensorboard>=2.0.0->tbparse) (1.3.1)\n",
      "Requirement already satisfied: certifi>=2017.4.17 in /home/quanta/.conda/envs/forl-proj/lib/python3.10/site-packages (from requests<3,>=2.21.0->tensorboard>=2.0.0->tbparse) (2023.5.7)\n",
      "Requirement already satisfied: idna<4,>=2.5 in /home/quanta/.conda/envs/forl-proj/lib/python3.10/site-packages (from requests<3,>=2.21.0->tensorboard>=2.0.0->tbparse) (3.4)\n",
      "Requirement already satisfied: charset-normalizer<4,>=2 in /home/quanta/.conda/envs/forl-proj/lib/python3.10/site-packages (from requests<3,>=2.21.0->tensorboard>=2.0.0->tbparse) (3.1.0)\n",
      "Requirement already satisfied: MarkupSafe>=2.1.1 in /home/quanta/.conda/envs/forl-proj/lib/python3.10/site-packages (from werkzeug>=1.0.1->tensorboard>=2.0.0->tbparse) (2.1.3)\n",
      "Requirement already satisfied: pyasn1<0.6.0,>=0.4.6 in /home/quanta/.conda/envs/forl-proj/lib/python3.10/site-packages (from pyasn1-modules>=0.2.1->google-auth<3,>=1.6.3->tensorboard>=2.0.0->tbparse) (0.5.0)\n",
      "Requirement already satisfied: oauthlib>=3.0.0 in /home/quanta/.conda/envs/forl-proj/lib/python3.10/site-packages (from requests-oauthlib>=0.7.0->google-auth-oauthlib<1.1,>=0.5->tensorboard>=2.0.0->tbparse) (3.2.2)\n",
      "Note: you may need to restart the kernel to use updated packages.\n"
     ]
    }
   ],
   "source": [
    "%pip install pandas seaborn tbparse"
   ]
  },
  {
   "cell_type": "code",
   "execution_count": 2,
   "metadata": {},
   "outputs": [],
   "source": [
    "import os\n",
    "from pathlib import Path\n",
    "\n",
    "import pandas as pd\n",
    "import seaborn as sns\n",
    "from matplotlib import pyplot as plt\n",
    "from scipy import stats\n",
    "from tbparse import SummaryReader"
   ]
  },
  {
   "cell_type": "code",
   "execution_count": 5,
   "metadata": {},
   "outputs": [],
   "source": [
    "log_dir = str(os.path.abspath(os.path.join(str(Path.home()), 'forl-exp/Matrix_Game_PrisonerDilemma')))"
   ]
  },
  {
   "cell_type": "code",
   "execution_count": 9,
   "metadata": {},
   "outputs": [],
   "source": [
    "reader = SummaryReader(log_dir, extra_columns={'dir_name'})\n",
    "df = reader.scalars"
   ]
  },
  {
   "cell_type": "code",
   "execution_count": 21,
   "metadata": {},
   "outputs": [
    {
     "data": {
      "text/plain": [
       "['no_amd_linear_model_neural_assump/AMDPPO_Matrix_Game_PrisonerDilemma_283a7_00000_0_2023-06-08_19-59-04',\n",
       " 'no_amd_linear_model_softmax_assump/AMDPPO_Matrix_Game_PrisonerDilemma_32385_00000_0_2023-06-08_19-59-21',\n",
       " 'no_amd_mlp_model_neural_assump/AMDPPO_Matrix_Game_PrisonerDilemma_58c90_00000_0_2023-06-08_20-00-26',\n",
       " 'no_amd_mlp_model_softmax_assump/AMDPPO_Matrix_Game_PrisonerDilemma_6494d_00000_0_2023-06-08_20-00-46',\n",
       " 'with_amd_linear_model_neural_assump/AMDPPO_Matrix_Game_PrisonerDilemma_0f299_00000_0_2023-06-08_19-58-22',\n",
       " 'with_amd_linear_model_softmax_assump/AMDPPO_Matrix_Game_PrisonerDilemma_18bd1_00000_0_2023-06-08_19-58-38',\n",
       " 'with_amd_mlp_model_neural_assump/AMDPPO_Matrix_Game_PrisonerDilemma_3bce7_00000_0_2023-06-08_19-59-37',\n",
       " 'with_amd_mlp_model_softmax_assump/AMDPPO_Matrix_Game_PrisonerDilemma_47c46_00000_0_2023-06-08_19-59-57']"
      ]
     },
     "execution_count": 21,
     "metadata": {},
     "output_type": "execute_result"
    }
   ],
   "source": [
    "df['dir_name'].unique().tolist()"
   ]
  },
  {
   "cell_type": "code",
   "execution_count": 22,
   "metadata": {},
   "outputs": [
    {
     "data": {
      "text/plain": [
       "['ray/tune/agent_timesteps_total',\n",
       " 'ray/tune/connector_metrics/ObsPreprocessorConnector_ms',\n",
       " 'ray/tune/connector_metrics/StateBufferConnector_ms',\n",
       " 'ray/tune/connector_metrics/ViewRequirementAgentConnector_ms',\n",
       " 'ray/tune/counters/num_agent_steps_sampled',\n",
       " 'ray/tune/counters/num_agent_steps_trained',\n",
       " 'ray/tune/counters/num_env_steps_sampled',\n",
       " 'ray/tune/counters/num_env_steps_trained',\n",
       " 'ray/tune/done',\n",
       " 'ray/tune/episode_len_mean',\n",
       " 'ray/tune/episode_reward_max',\n",
       " 'ray/tune/episode_reward_mean',\n",
       " 'ray/tune/episode_reward_min',\n",
       " 'ray/tune/episodes_this_iter',\n",
       " 'ray/tune/episodes_total',\n",
       " 'ray/tune/info/learner/agent_0/diff_num_grad_updates_vs_sampler_policy',\n",
       " 'ray/tune/info/learner/agent_0/learner_stats/amd_loss',\n",
       " 'ray/tune/info/learner/agent_0/learner_stats/cooperativeness',\n",
       " 'ray/tune/info/learner/agent_0/learner_stats/cur_kl_coeff',\n",
       " 'ray/tune/info/learner/agent_0/learner_stats/cur_lr',\n",
       " 'ray/tune/info/learner/agent_0/learner_stats/entropy',\n",
       " 'ray/tune/info/learner/agent_0/learner_stats/entropy_coeff',\n",
       " 'ray/tune/info/learner/agent_0/learner_stats/kl',\n",
       " 'ray/tune/info/learner/agent_0/learner_stats/planner_reward_coeff',\n",
       " 'ray/tune/info/learner/agent_0/learner_stats/policy_loss',\n",
       " 'ray/tune/info/learner/agent_0/learner_stats/total_loss',\n",
       " 'ray/tune/info/learner/agent_0/learner_stats/vf_explained_var',\n",
       " 'ray/tune/info/learner/agent_0/learner_stats/vf_loss',\n",
       " 'ray/tune/info/learner/agent_0/num_grad_updates_lifetime',\n",
       " 'ray/tune/info/learner/agent_1/diff_num_grad_updates_vs_sampler_policy',\n",
       " 'ray/tune/info/learner/agent_1/learner_stats/amd_loss',\n",
       " 'ray/tune/info/learner/agent_1/learner_stats/cooperativeness',\n",
       " 'ray/tune/info/learner/agent_1/learner_stats/cur_kl_coeff',\n",
       " 'ray/tune/info/learner/agent_1/learner_stats/cur_lr',\n",
       " 'ray/tune/info/learner/agent_1/learner_stats/entropy',\n",
       " 'ray/tune/info/learner/agent_1/learner_stats/entropy_coeff',\n",
       " 'ray/tune/info/learner/agent_1/learner_stats/kl',\n",
       " 'ray/tune/info/learner/agent_1/learner_stats/planner_reward_coeff',\n",
       " 'ray/tune/info/learner/agent_1/learner_stats/policy_loss',\n",
       " 'ray/tune/info/learner/agent_1/learner_stats/total_loss',\n",
       " 'ray/tune/info/learner/agent_1/learner_stats/vf_explained_var',\n",
       " 'ray/tune/info/learner/agent_1/learner_stats/vf_loss',\n",
       " 'ray/tune/info/learner/agent_1/num_grad_updates_lifetime',\n",
       " 'ray/tune/info/learner/central_planner/diff_num_grad_updates_vs_sampler_policy',\n",
       " 'ray/tune/info/learner/central_planner/learner_stats/cur_lr',\n",
       " 'ray/tune/info/learner/central_planner/learner_stats/planner_policy_loss',\n",
       " 'ray/tune/info/learner/central_planner/learner_stats/planner_reward_cost',\n",
       " 'ray/tune/info/learner/central_planner/learner_stats/planner_reward_std',\n",
       " 'ray/tune/info/learner/central_planner/num_grad_updates_lifetime',\n",
       " 'ray/tune/info/num_agent_steps_sampled',\n",
       " 'ray/tune/info/num_agent_steps_trained',\n",
       " 'ray/tune/info/num_env_steps_sampled',\n",
       " 'ray/tune/info/num_env_steps_trained',\n",
       " 'ray/tune/iterations_since_restore',\n",
       " 'ray/tune/num_agent_steps_sampled',\n",
       " 'ray/tune/num_agent_steps_trained',\n",
       " 'ray/tune/num_env_steps_sampled',\n",
       " 'ray/tune/num_env_steps_sampled_this_iter',\n",
       " 'ray/tune/num_env_steps_trained',\n",
       " 'ray/tune/num_env_steps_trained_this_iter',\n",
       " 'ray/tune/num_faulty_episodes',\n",
       " 'ray/tune/num_healthy_workers',\n",
       " 'ray/tune/num_in_flight_async_reqs',\n",
       " 'ray/tune/num_remote_worker_restarts',\n",
       " 'ray/tune/num_steps_trained_this_iter',\n",
       " 'ray/tune/perf/cpu_util_percent',\n",
       " 'ray/tune/perf/gpu_util_percent0',\n",
       " 'ray/tune/perf/ram_util_percent',\n",
       " 'ray/tune/perf/vram_util_percent0',\n",
       " 'ray/tune/policy_reward_max/agent_0',\n",
       " 'ray/tune/policy_reward_max/agent_1',\n",
       " 'ray/tune/policy_reward_max/central_planner',\n",
       " 'ray/tune/policy_reward_mean/agent_0',\n",
       " 'ray/tune/policy_reward_mean/agent_1',\n",
       " 'ray/tune/policy_reward_mean/central_planner',\n",
       " 'ray/tune/policy_reward_min/agent_0',\n",
       " 'ray/tune/policy_reward_min/agent_1',\n",
       " 'ray/tune/policy_reward_min/central_planner',\n",
       " 'ray/tune/sampler_perf/mean_action_processing_ms',\n",
       " 'ray/tune/sampler_perf/mean_env_render_ms',\n",
       " 'ray/tune/sampler_perf/mean_env_wait_ms',\n",
       " 'ray/tune/sampler_perf/mean_inference_ms',\n",
       " 'ray/tune/sampler_perf/mean_raw_obs_processing_ms',\n",
       " 'ray/tune/sampler_results/connector_metrics/ObsPreprocessorConnector_ms',\n",
       " 'ray/tune/sampler_results/connector_metrics/StateBufferConnector_ms',\n",
       " 'ray/tune/sampler_results/connector_metrics/ViewRequirementAgentConnector_ms',\n",
       " 'ray/tune/sampler_results/episode_len_mean',\n",
       " 'ray/tune/sampler_results/episode_reward_max',\n",
       " 'ray/tune/sampler_results/episode_reward_mean',\n",
       " 'ray/tune/sampler_results/episode_reward_min',\n",
       " 'ray/tune/sampler_results/episodes_this_iter',\n",
       " 'ray/tune/sampler_results/num_faulty_episodes',\n",
       " 'ray/tune/sampler_results/policy_reward_max/agent_0',\n",
       " 'ray/tune/sampler_results/policy_reward_max/agent_1',\n",
       " 'ray/tune/sampler_results/policy_reward_max/central_planner',\n",
       " 'ray/tune/sampler_results/policy_reward_mean/agent_0',\n",
       " 'ray/tune/sampler_results/policy_reward_mean/agent_1',\n",
       " 'ray/tune/sampler_results/policy_reward_mean/central_planner',\n",
       " 'ray/tune/sampler_results/policy_reward_min/agent_0',\n",
       " 'ray/tune/sampler_results/policy_reward_min/agent_1',\n",
       " 'ray/tune/sampler_results/policy_reward_min/central_planner',\n",
       " 'ray/tune/sampler_results/sampler_perf/mean_action_processing_ms',\n",
       " 'ray/tune/sampler_results/sampler_perf/mean_env_render_ms',\n",
       " 'ray/tune/sampler_results/sampler_perf/mean_env_wait_ms',\n",
       " 'ray/tune/sampler_results/sampler_perf/mean_inference_ms',\n",
       " 'ray/tune/sampler_results/sampler_perf/mean_raw_obs_processing_ms',\n",
       " 'ray/tune/time_since_restore',\n",
       " 'ray/tune/time_this_iter_s',\n",
       " 'ray/tune/timers/learn_throughput',\n",
       " 'ray/tune/timers/learn_time_ms',\n",
       " 'ray/tune/timers/load_throughput',\n",
       " 'ray/tune/timers/load_time_ms',\n",
       " 'ray/tune/timers/training_iteration_time_ms',\n",
       " 'ray/tune/timesteps_since_restore',\n",
       " 'ray/tune/timesteps_total',\n",
       " 'ray/tune/warmup_time']"
      ]
     },
     "execution_count": 22,
     "metadata": {},
     "output_type": "execute_result"
    }
   ],
   "source": [
    "df['tag'].unique().tolist()"
   ]
  },
  {
   "cell_type": "code",
   "execution_count": 18,
   "metadata": {},
   "outputs": [],
   "source": [
    "new_df = df[df['dir_name'] == 'no_amd_linear_model_neural_assump/AMDPPO_Matrix_Game_PrisonerDilemma_283a7_00000_0_2023-06-08_19-59-04']\n",
    "new_df = new_df[new_df['tag'] == 'ray/tune/episode_reward_mean']"
   ]
  },
  {
   "cell_type": "code",
   "execution_count": 12,
   "metadata": {},
   "outputs": [
    {
     "data": {
      "text/plain": [
       "array(['no_amd_linear_model_neural_assump/AMDPPO_Matrix_Game_PrisonerDilemma_283a7_00000_0_2023-06-08_19-59-04',\n",
       "       'no_amd_linear_model_softmax_assump/AMDPPO_Matrix_Game_PrisonerDilemma_32385_00000_0_2023-06-08_19-59-21',\n",
       "       'no_amd_mlp_model_neural_assump/AMDPPO_Matrix_Game_PrisonerDilemma_58c90_00000_0_2023-06-08_20-00-26',\n",
       "       'no_amd_mlp_model_softmax_assump/AMDPPO_Matrix_Game_PrisonerDilemma_6494d_00000_0_2023-06-08_20-00-46',\n",
       "       'with_amd_linear_model_neural_assump/AMDPPO_Matrix_Game_PrisonerDilemma_0f299_00000_0_2023-06-08_19-58-22',\n",
       "       'with_amd_linear_model_softmax_assump/AMDPPO_Matrix_Game_PrisonerDilemma_18bd1_00000_0_2023-06-08_19-58-38',\n",
       "       'with_amd_mlp_model_neural_assump/AMDPPO_Matrix_Game_PrisonerDilemma_3bce7_00000_0_2023-06-08_19-59-37',\n",
       "       'with_amd_mlp_model_softmax_assump/AMDPPO_Matrix_Game_PrisonerDilemma_47c46_00000_0_2023-06-08_19-59-57'],\n",
       "      dtype=object)"
      ]
     },
     "execution_count": 12,
     "metadata": {},
     "output_type": "execute_result"
    }
   ],
   "source": []
  },
  {
   "cell_type": "code",
   "execution_count": 20,
   "metadata": {},
   "outputs": [
    {
     "data": {
      "image/png": "[encoded data removed]",
      "text/plain": [
       "<Figure size 640x480 with 1 Axes>"
      ]
     },
     "metadata": {},
     "output_type": "display_data"
    }
   ],
   "source": [
    "g = sns.lineplot(data=new_df, x='step', y='value', hue='tag')"
   ]
  },
  {
   "cell_type": "code",
   "execution_count": null,
   "metadata": {},
   "outputs": [],
   "source": []
  }
 ],
 "metadata": {
  "kernelspec": {
   "display_name": "forl-proj",
   "language": "python",
   "name": "python3"
  },
  "language_info": {
   "codemirror_mode": {
    "name": "ipython",
    "version": 3
   },
   "file_extension": ".py",
   "mimetype": "text/x-python",
   "name": "python",
   "nbconvert_exporter": "python",
   "pygments_lexer": "ipython3",
   "version": "3.10.11"
  },
  "orig_nbformat": 4
 },
 "nbformat": 4,
 "nbformat_minor": 2
}
