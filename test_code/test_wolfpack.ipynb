{
 "cells": [
  {
   "cell_type": "code",
   "execution_count": 1,
   "metadata": {},
   "outputs": [],
   "source": [
    "# add module\n",
    "import os, sys\n",
    "\n",
    "module_path = os.path.abspath(os.path.join('..'))\n",
    "if module_path not in sys.path:\n",
    "    sys.path.append(module_path)"
   ]
  },
  {
   "cell_type": "code",
   "execution_count": 5,
   "metadata": {},
   "outputs": [],
   "source": [
    "import numpy as np\n",
    "import supersuit as ss\n",
    "\n",
    "from core.algorithms.amd.wrappers import \\\n",
    "    MultiAgentEnvFromPettingZooParallel as P2M\n",
    "from core.algorithms.amd.wrappers import \\\n",
    "    MultiAgentEnvWithCentralPlanner as CPEnv\n",
    "from core.environments.wolfpack import WolfpackEnv, wolfpack_env_creator"
   ]
  },
  {
   "cell_type": "code",
   "execution_count": 6,
   "metadata": {},
   "outputs": [
    {
     "name": "stderr",
     "output_type": "stream",
     "text": [
      "/home/quanta/.conda/envs/forl-proj/lib/python3.10/site-packages/pettingzoo/utils/conversions.py:128: UserWarning: The `observation_spaces` dictionary is deprecated. Use the `observation_space` function instead.\n",
      "  warnings.warn(\n",
      "/home/quanta/.conda/envs/forl-proj/lib/python3.10/site-packages/pettingzoo/utils/conversions.py:142: UserWarning: The `action_spaces` dictionary is deprecated. Use the `action_space` function instead.\n",
      "  warnings.warn(\n"
     ]
    }
   ],
   "source": [
    "env = CPEnv(P2M(ss.normalize_obs_v0(ss.dtype_v0(\n",
    "    wolfpack_env_creator({\n",
    "        'r_lone': 1.0,\n",
    "        'r_team': 5.0,\n",
    "        'r_prey': 0.01,\n",
    "        'r_starv': -0.01,\n",
    "        'max_cycles': 1024,\n",
    "    }),\n",
    "    np.float32,\n",
    "))))\n"
   ]
  },
  {
   "cell_type": "code",
   "execution_count": 8,
   "metadata": {},
   "outputs": [
    {
     "data": {
      "text/plain": [
       "Dict('prey': Box(0.0, 1.0, (16, 21, 3), float32), 'wolf_1': Box(0.0, 1.0, (16, 21, 3), float32), 'wolf_2': Box(0.0, 1.0, (16, 21, 3), float32), 'central_planner': Box(0.0, 1.0, (1224,), float64))"
      ]
     },
     "execution_count": 8,
     "metadata": {},
     "output_type": "execute_result"
    }
   ],
   "source": [
    "env.observation_space"
   ]
  },
  {
   "cell_type": "code",
   "execution_count": 11,
   "metadata": {},
   "outputs": [
    {
     "data": {
      "text/plain": [
       "Dict('action': Dict('prey': Discrete(7), 'wolf_1': Discrete(7), 'wolf_2': Discrete(7)), 'presence': Dict('prey': MultiBinary(1), 'wolf_1': MultiBinary(1), 'wolf_2': MultiBinary(1)), 'state': Box(0.0, 1.0, (20, 20, 3), float32))"
      ]
     },
     "execution_count": 11,
     "metadata": {},
     "output_type": "execute_result"
    }
   ],
   "source": [
    "env.central_planner_observation_space_unflattened"
   ]
  },
  {
   "cell_type": "code",
   "execution_count": null,
   "metadata": {},
   "outputs": [],
   "source": []
  }
 ],
 "metadata": {
  "kernelspec": {
   "display_name": "forl-proj",
   "language": "python",
   "name": "python3"
  },
  "language_info": {
   "codemirror_mode": {
    "name": "ipython",
    "version": 3
   },
   "file_extension": ".py",
   "mimetype": "text/x-python",
   "name": "python",
   "nbconvert_exporter": "python",
   "pygments_lexer": "ipython3",
   "version": "3.10.4"
  },
  "orig_nbformat": 4
 },
 "nbformat": 4,
 "nbformat_minor": 2
}
