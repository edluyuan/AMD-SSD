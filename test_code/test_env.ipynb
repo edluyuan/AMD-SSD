{
 "cells": [
  {
   "cell_type": "code",
   "execution_count": 1,
   "metadata": {},
   "outputs": [],
   "source": [
    "# add module\n",
    "import os, sys\n",
    "module_path = os.path.abspath(os.path.join('..'))\n",
    "if module_path not in sys.path:\n",
    "    sys.path.append(module_path)"
   ]
  },
  {
   "cell_type": "code",
   "execution_count": 2,
   "metadata": {},
   "outputs": [
    {
     "name": "stdout",
     "output_type": "stream",
     "text": [
      "pygame 2.3.0 (SDL 2.24.2, Python 3.10.4)\n",
      "Hello from the pygame community. https://www.pygame.org/contribute.html\n"
     ]
    }
   ],
   "source": [
    "from core.environments.utils import ascii_list_to_array, ascii_array_to_rgb_array, ascii_array_to_str, ascii_dict_to_color_array\n",
    "from core.environments.wolfpack.constants import WOLFPACK_MAP, WOLFPACK_COLOR\n",
    "from core.environments.wolfpack.env import Wolfpack\n",
    "import numpy as np\n",
    "from gymnasium.utils import seeding\n",
    "from PIL import Image"
   ]
  },
  {
   "cell_type": "code",
   "execution_count": 3,
   "metadata": {},
   "outputs": [],
   "source": [
    "rng, _ = seeding.np_random(114514)\n",
    "a = Wolfpack(rng, )\n",
    "a.render_mode = 'rgb_array'"
   ]
  },
  {
   "cell_type": "code",
   "execution_count": 4,
   "metadata": {},
   "outputs": [
    {
     "data": {
      "text/plain": [
       "False"
      ]
     },
     "execution_count": 4,
     "metadata": {},
     "output_type": "execute_result"
    }
   ],
   "source": [
    "a.render_on"
   ]
  },
  {
   "cell_type": "code",
   "execution_count": 36,
   "metadata": {},
   "outputs": [
    {
     "name": "stdout",
     "output_type": "stream",
     "text": [
      "@ @ @ @ @ @ @ @ @ @ @ @ @ @ @ @ @ @ @ @\n",
      "@                                     @\n",
      "@             @ @         @           @\n",
      "@ @ @           @ @         @         @\n",
      "@                                     @\n",
      "@                                 @   @\n",
      "@               @ @             @     @\n",
      "@   @ @ @                     @       @\n",
      "@   @ @ @ _ V                         @\n",
      "@                   @ @ @             @\n",
      "@         @           @       @       @\n",
      "@       @ @                 @ @ U     @\n",
      "@         @ @             @ @   _     @\n",
      "@                                     @\n",
      "@               _       @           @ @\n",
      "@       @ @     P     @ @ @         @ @\n",
      "@     @ @ @             @ @ @       @ @\n",
      "@       @                             @\n",
      "@                       @             @\n",
      "@ @ @ @ @ @ @ @ @ @ @ @ @ @ @ @ @ @ @ @\n"
     ]
    },
    {
     "data": {
      "image/png": "[encoded data removed]",
      "text/plain": [
       "<PIL.Image.Image image mode=RGB size=640x640>"
      ]
     },
     "execution_count": 36,
     "metadata": {},
     "output_type": "execute_result"
    }
   ],
   "source": [
    "a.reset()\n",
    "print(ascii_array_to_str(a.grid_world()))\n",
    "Image.fromarray(a.render())"
   ]
  },
  {
   "cell_type": "code",
   "execution_count": 37,
   "metadata": {},
   "outputs": [
    {
     "data": {
      "image/png": "[encoded data removed]",
      "text/plain": [
       "<PIL.Image.Image image mode=RGB size=640x640>"
      ]
     },
     "metadata": {},
     "output_type": "display_data"
    }
   ],
   "source": [
    "# out = a.step(dict(zip(a.agents, np.random.choice(6, size=(3,)).tolist())))\n",
    "out = a.step(dict(zip(a.agents, (5 * np.ones((3,))).tolist())))\n",
    "output = a.grid_world()\n",
    "# print(output)\n",
    "rgb = ascii_array_to_rgb_array(output, a.ascii_color_array)\n",
    "img = Image.fromarray(a.render())\n",
    "display(img,)"
   ]
  },
  {
   "cell_type": "code",
   "execution_count": 24,
   "metadata": {},
   "outputs": [
    {
     "name": "stdout",
     "output_type": "stream",
     "text": [
      "(21, 16)\n"
     ]
    },
    {
     "data": {
      "image/png": "[encoded data removed]",
      "text/plain": [
       "<PIL.Image.Image image mode=RGB size=630x480>"
      ]
     },
     "execution_count": 24,
     "metadata": {},
     "output_type": "execute_result"
    }
   ],
   "source": [
    "img = Image.fromarray(a.observe('prey'))\n",
    "print(img.size)\n",
    "img = img.resize((21*30, 16*30),resample=Image.Resampling.NEAREST)\n",
    "img"
   ]
  },
  {
   "cell_type": "code",
   "execution_count": 38,
   "metadata": {},
   "outputs": [],
   "source": [
    "from pettingzoo.test import parallel_api_test\n",
    "from pettingzoo.butterfly import cooperative_pong_v5\n",
    "from core.environments.wolfpack.env import WolfpackEnv\n",
    "env = WolfpackEnv()"
   ]
  },
  {
   "cell_type": "code",
   "execution_count": 42,
   "metadata": {},
   "outputs": [
    {
     "data": {
      "text/plain": [
       "{'wolf_1': Discrete(7), 'wolf_2': Discrete(7), 'prey': Discrete(7)}"
      ]
     },
     "execution_count": 42,
     "metadata": {},
     "output_type": "execute_result"
    }
   ],
   "source": [
    "env.action_spaces"
   ]
  },
  {
   "cell_type": "code",
   "execution_count": 8,
   "metadata": {},
   "outputs": [
    {
     "name": "stdout",
     "output_type": "stream",
     "text": [
      "The slowest run took 10.36 times longer than the fastest. This could mean that an intermediate result is being cached.\n",
      "1.03 s ± 727 ms per loop (mean ± std. dev. of 7 runs, 1 loop each)\n"
     ]
    }
   ],
   "source": [
    "%%timeit\n",
    "parallel_api_test(env, num_cycles=100000000) # test OK!   "
   ]
  },
  {
   "attachments": {},
   "cell_type": "markdown",
   "metadata": {},
   "source": [
    "# To use this env in rllib, DO:"
   ]
  },
  {
   "cell_type": "code",
   "execution_count": 9,
   "metadata": {},
   "outputs": [],
   "source": [
    "from ray.tune.registry import register_env\n",
    "from ray.rllib.env import PettingZooEnv\n",
    "from core.environments.wolfpack.env import wolfpack_env_creator\n",
    "\n",
    "config_template = {\n",
    "    'r_lone': 1.0,\n",
    "    'r_team': 5.0,\n",
    "    'r_prey': 0.1,\n",
    "    'max_cycles': 1024,\n",
    "}\n",
    "\n",
    "# first register environment\n",
    "register_env('wolfpack', lambda config: PettingZooEnv(wolfpack_env_creator(config)))"
   ]
  },
  {
   "attachments": {},
   "cell_type": "markdown",
   "metadata": {},
   "source": [
    "## then in algorithm configuration"
   ]
  },
  {
   "attachments": {},
   "cell_type": "markdown",
   "metadata": {},
   "source": [
    "```python\n",
    "from ray.tune.registry import get_trainable_cls\n",
    "\n",
    "config = (\n",
    "    get_trainable_cls(args.run).get_default_config()\n",
    "    # or \"corridor\" if registered above\n",
    "    .environment(\n",
    "        'Wolfpack',\n",
    "        env_config=config_template,\n",
    "    ).framework(args.framework).rollouts(num_rollout_workers=1).training(model={\n",
    "        \"custom_model\": \"my_model\",\n",
    "        \"vf_share_layers\": True,\n",
    "    }))\n",
    "\n",
    "# I am not so sure\n",
    "```"
   ]
  },
  {
   "cell_type": "code",
   "execution_count": 10,
   "metadata": {},
   "outputs": [],
   "source": [
    "# from ray.rllib.algorithms.qmix import QMixConfig\n",
    "# from ray.rllib.algorithms import ppo"
   ]
  },
  {
   "cell_type": "code",
   "execution_count": 11,
   "metadata": {},
   "outputs": [],
   "source": [
    "from gymnasium import spaces"
   ]
  },
  {
   "cell_type": "code",
   "execution_count": 12,
   "metadata": {},
   "outputs": [],
   "source": [
    "a = spaces.MultiBinary(())"
   ]
  },
  {
   "cell_type": "code",
   "execution_count": 13,
   "metadata": {},
   "outputs": [
    {
     "data": {
      "text/plain": [
       "array(1, dtype=int8)"
      ]
     },
     "execution_count": 13,
     "metadata": {},
     "output_type": "execute_result"
    }
   ],
   "source": [
    "a.sample()"
   ]
  },
  {
   "cell_type": "code",
   "execution_count": 14,
   "metadata": {},
   "outputs": [],
   "source": [
    "from gymnasium.vector.utils import create_empty_array"
   ]
  },
  {
   "cell_type": "code",
   "execution_count": 15,
   "metadata": {},
   "outputs": [],
   "source": [
    "from gymnasium.spaces.utils import flatten"
   ]
  },
  {
   "cell_type": "code",
   "execution_count": 16,
   "metadata": {},
   "outputs": [
    {
     "data": {
      "text/plain": [
       "array([0], dtype=int8)"
      ]
     },
     "execution_count": 16,
     "metadata": {},
     "output_type": "execute_result"
    }
   ],
   "source": [
    "create_empty_array(a)"
   ]
  },
  {
   "cell_type": "code",
   "execution_count": 17,
   "metadata": {},
   "outputs": [],
   "source": [
    "b = spaces.Dict({\n",
    "    '1': spaces.Discrete(1),\n",
    "    '2': spaces.Discrete(1),\n",
    "})"
   ]
  },
  {
   "cell_type": "code",
   "execution_count": 18,
   "metadata": {},
   "outputs": [
    {
     "data": {
      "text/plain": [
       "OrderedDict([('1', array([0])), ('2', array([0]))])"
      ]
     },
     "execution_count": 18,
     "metadata": {},
     "output_type": "execute_result"
    }
   ],
   "source": [
    "create_empty_array(b)"
   ]
  },
  {
   "cell_type": "code",
   "execution_count": 19,
   "metadata": {},
   "outputs": [],
   "source": [
    "a = create_empty_array(b['1'])"
   ]
  },
  {
   "cell_type": "code",
   "execution_count": 20,
   "metadata": {},
   "outputs": [
    {
     "data": {
      "text/plain": [
       "(1,)"
      ]
     },
     "execution_count": 20,
     "metadata": {},
     "output_type": "execute_result"
    }
   ],
   "source": [
    "a.shape"
   ]
  },
  {
   "cell_type": "code",
   "execution_count": 21,
   "metadata": {},
   "outputs": [
    {
     "data": {
      "text/plain": [
       "array(0)"
      ]
     },
     "execution_count": 21,
     "metadata": {},
     "output_type": "execute_result"
    }
   ],
   "source": [
    "a.reshape(())"
   ]
  },
  {
   "cell_type": "code",
   "execution_count": 22,
   "metadata": {},
   "outputs": [
    {
     "data": {
      "text/plain": [
       "()"
      ]
     },
     "execution_count": 22,
     "metadata": {},
     "output_type": "execute_result"
    }
   ],
   "source": [
    "np.array(4).shape"
   ]
  },
  {
   "cell_type": "code",
   "execution_count": 23,
   "metadata": {},
   "outputs": [
    {
     "data": {
      "text/plain": [
       "array([1], dtype=int8)"
      ]
     },
     "execution_count": 23,
     "metadata": {},
     "output_type": "execute_result"
    }
   ],
   "source": [
    "np.array([1], dtype=np.int8)"
   ]
  },
  {
   "cell_type": "code",
   "execution_count": 24,
   "metadata": {},
   "outputs": [],
   "source": [
    "b = spaces.Dict({\n",
    "    '1': spaces.Discrete(1),\n",
    "    '2': spaces.Discrete(1),\n",
    "})"
   ]
  },
  {
   "cell_type": "code",
   "execution_count": 25,
   "metadata": {},
   "outputs": [
    {
     "data": {
      "text/plain": [
       "0"
      ]
     },
     "execution_count": 25,
     "metadata": {},
     "output_type": "execute_result"
    }
   ],
   "source": [
    "b['1'].sample()"
   ]
  },
  {
   "cell_type": "code",
   "execution_count": null,
   "metadata": {},
   "outputs": [],
   "source": []
  }
 ],
 "metadata": {
  "kernelspec": {
   "display_name": "forl-proj",
   "language": "python",
   "name": "python3"
  },
  "language_info": {
   "codemirror_mode": {
    "name": "ipython",
    "version": 3
   },
   "file_extension": ".py",
   "mimetype": "text/x-python",
   "name": "python",
   "nbconvert_exporter": "python",
   "pygments_lexer": "ipython3",
   "version": "3.10.4"
  },
  "orig_nbformat": 4
 },
 "nbformat": 4,
 "nbformat_minor": 2
}
