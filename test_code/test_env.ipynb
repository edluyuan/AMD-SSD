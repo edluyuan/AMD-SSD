{
 "cells": [
  {
   "cell_type": "code",
   "execution_count": 1,
   "metadata": {},
   "outputs": [],
   "source": [
    "# add module\n",
    "import os, sys\n",
    "module_path = os.path.abspath(os.path.join('..'))\n",
    "if module_path not in sys.path:\n",
    "    sys.path.append(module_path)"
   ]
  },
  {
   "cell_type": "code",
   "execution_count": 2,
   "metadata": {},
   "outputs": [
    {
     "name": "stdout",
     "output_type": "stream",
     "text": [
      "pygame 2.3.0 (SDL 2.24.2, Python 3.10.4)\n",
      "Hello from the pygame community. https://www.pygame.org/contribute.html\n"
     ]
    }
   ],
   "source": [
    "from core.environments.utils import ascii_list_to_array, ascii_array_to_rgb_array, ascii_array_to_str, ascii_dict_to_color_array\n",
    "from core.environments.wolfpack.constants import WOLFPACK_MAP, WOLFPACK_COLOR\n",
    "from core.environments.wolfpack.env import Wolfpack\n",
    "import numpy as np\n",
    "from gymnasium.utils import seeding\n",
    "from PIL import Image"
   ]
  },
  {
   "cell_type": "code",
   "execution_count": 3,
   "metadata": {},
   "outputs": [],
   "source": [
    "rng, _ = seeding.np_random(114514)\n",
    "a = Wolfpack(rng, )\n",
    "a.render_mode = 'rgb_array'"
   ]
  },
  {
   "cell_type": "code",
   "execution_count": 4,
   "metadata": {},
   "outputs": [
    {
     "data": {
      "text/plain": [
       "False"
      ]
     },
     "execution_count": 4,
     "metadata": {},
     "output_type": "execute_result"
    }
   ],
   "source": [
    "a.render_on"
   ]
  },
  {
   "cell_type": "code",
   "execution_count": 5,
   "metadata": {},
   "outputs": [
    {
     "name": "stdout",
     "output_type": "stream",
     "text": [
      "@ @ @ @ @ @ @ @ @ @ @ @ @ @ @ @ @ @ @ @\n",
      "@                                     @\n",
      "@             @ @         @           @\n",
      "@ @ @ U         @ @ P       @         @\n",
      "@     _             _                 @\n",
      "@                                 @   @\n",
      "@               @ @             @     @\n",
      "@   @ @ @                     @       @\n",
      "@   @ @ @                             @\n",
      "@                   @ @ @             @\n",
      "@         @           @       @       @\n",
      "@       @ @             _   @ @       @\n",
      "@         @ @           V @ @         @\n",
      "@                                     @\n",
      "@                       @           @ @\n",
      "@       @ @           @ @ @         @ @\n",
      "@     @ @ @             @ @ @       @ @\n",
      "@       @                             @\n",
      "@                       @             @\n",
      "@ @ @ @ @ @ @ @ @ @ @ @ @ @ @ @ @ @ @ @\n"
     ]
    },
    {
     "data": {
      "image/png": "[encoded data removed]",
      "text/plain": [
       "<PIL.Image.Image image mode=RGB size=640x640>"
      ]
     },
     "execution_count": 5,
     "metadata": {},
     "output_type": "execute_result"
    }
   ],
   "source": [
    "a.reset()\n",
    "print(ascii_array_to_str(a.grid_world()))\n",
    "Image.fromarray(a.render())"
   ]
  },
  {
   "cell_type": "code",
   "execution_count": 6,
   "metadata": {},
   "outputs": [
    {
     "data": {
      "image/png": "[encoded data removed]",
      "text/plain": [
       "<PIL.Image.Image image mode=RGB size=640x640>"
      ]
     },
     "metadata": {},
     "output_type": "display_data"
    }
   ],
   "source": [
    "out = a.step(dict(zip(a.agents, np.random.choice(6, size=(3,)).tolist())))\n",
    "output = a.grid_world()\n",
    "# print(output)\n",
    "rgb = ascii_array_to_rgb_array(output, a.ascii_color_array)\n",
    "img = Image.fromarray(a.render())\n",
    "display(img,)"
   ]
  },
  {
   "cell_type": "code",
   "execution_count": 7,
   "metadata": {},
   "outputs": [],
   "source": [
    "from pettingzoo.test import parallel_api_test\n",
    "from pettingzoo.butterfly import cooperative_pong_v5\n",
    "from core.environments.wolfpack.env import WolfpackEnv\n",
    "env = WolfpackEnv()"
   ]
  },
  {
   "cell_type": "code",
   "execution_count": 8,
   "metadata": {},
   "outputs": [
    {
     "name": "stdout",
     "output_type": "stream",
     "text": [
      "The slowest run took 21.69 times longer than the fastest. This could mean that an intermediate result is being cached.\n",
      "621 ms ± 318 ms per loop (mean ± std. dev. of 7 runs, 1 loop each)\n"
     ]
    }
   ],
   "source": [
    "%%timeit\n",
    "parallel_api_test(env, num_cycles=100000000) # test OK!   "
   ]
  },
  {
   "attachments": {},
   "cell_type": "markdown",
   "metadata": {},
   "source": [
    "# To use this env in rllib, DO:"
   ]
  },
  {
   "cell_type": "code",
   "execution_count": 13,
   "metadata": {},
   "outputs": [],
   "source": [
    "from ray.tune.registry import register_env\n",
    "from ray.rllib.env import PettingZooEnv\n",
    "from core.environments.wolfpack.env import wolfpack_env_creator\n",
    "\n",
    "config_template = {\n",
    "    'r_lone': 1.0,\n",
    "    'r_team': 5.0,\n",
    "    'r_prey': 0.1,\n",
    "    'max_cycles': 1024,\n",
    "}\n",
    "\n",
    "# first register environment\n",
    "register_env('wolfpack', lambda config: PettingZooEnv(wolfpack_env_creator(config)))"
   ]
  },
  {
   "attachments": {},
   "cell_type": "markdown",
   "metadata": {},
   "source": [
    "## then in algorithm configuration"
   ]
  },
  {
   "attachments": {},
   "cell_type": "markdown",
   "metadata": {},
   "source": [
    "```python\n",
    "from ray.tune.registry import get_trainable_cls\n",
    "\n",
    "config = (\n",
    "    get_trainable_cls(args.run).get_default_config()\n",
    "    # or \"corridor\" if registered above\n",
    "    .environment(\n",
    "        'Wolfpack',\n",
    "        env_config=config_template,\n",
    "    ).framework(args.framework).rollouts(num_rollout_workers=1).training(model={\n",
    "        \"custom_model\": \"my_model\",\n",
    "        \"vf_share_layers\": True,\n",
    "    }))\n",
    "\n",
    "# I am not so sure\n",
    "```"
   ]
  },
  {
   "cell_type": "code",
   "execution_count": null,
   "metadata": {},
   "outputs": [],
   "source": [
    "# from ray.rllib.algorithms.qmix import QMixConfig\n",
    "# from ray.rllib.algorithms import ppo"
   ]
  }
 ],
 "metadata": {
  "kernelspec": {
   "display_name": "forl-proj",
   "language": "python",
   "name": "python3"
  },
  "language_info": {
   "codemirror_mode": {
    "name": "ipython",
    "version": 3
   },
   "file_extension": ".py",
   "mimetype": "text/x-python",
   "name": "python",
   "nbconvert_exporter": "python",
   "pygments_lexer": "ipython3",
   "version": "3.10.4"
  },
  "orig_nbformat": 4
 },
 "nbformat": 4,
 "nbformat_minor": 2
}
