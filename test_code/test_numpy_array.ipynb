{
 "cells": [
  {
   "cell_type": "code",
   "execution_count": 1,
   "metadata": {},
   "outputs": [],
   "source": [
    "import numpy as np"
   ]
  },
  {
   "cell_type": "code",
   "execution_count": 6,
   "metadata": {},
   "outputs": [],
   "source": [
    "a1 = np.random.randint(0, 10, (100, ))\n",
    "a2 = np.random.randint(10, 1000, (100, ))\n",
    "\n",
    "b1 = np.random.randint(0, 10, (300, ))\n",
    "b2 = np.random.randint(10, 1000, (300, ))"
   ]
  },
  {
   "cell_type": "code",
   "execution_count": 11,
   "metadata": {},
   "outputs": [],
   "source": [
    "ac = np.vstack([a1, a2]).T\n",
    "bc = np.vstack([b1, b2]).T"
   ]
  },
  {
   "cell_type": "code",
   "execution_count": 23,
   "metadata": {},
   "outputs": [],
   "source": [
    "dt = np.dtype((np.int64, 2))"
   ]
  },
  {
   "cell_type": "code",
   "execution_count": 46,
   "metadata": {},
   "outputs": [],
   "source": [
    "nrows, ncols = ac.shape\n",
    "# dtype={'names':['f{}'.format(i) for i in range(ncols)],\n",
    "#        'formats':ncols * [ac.dtype]}\n",
    "dtype = {\n",
    "    'names': ['t', 'eps_id'],\n",
    "    # 'formats': [np.int64, np.int64],\n",
    "    'formats': [int, int],\n",
    "\n",
    "}"
   ]
  },
  {
   "cell_type": "code",
   "execution_count": 47,
   "metadata": {},
   "outputs": [],
   "source": [
    "ad = ac.copy().view(dtype).reshape(-1)\n",
    "bd = bc.copy().view(dtype).reshape(-1)"
   ]
  },
  {
   "cell_type": "code",
   "execution_count": 48,
   "metadata": {},
   "outputs": [],
   "source": [
    "abd = np.union1d(ad, bd)"
   ]
  },
  {
   "cell_type": "code",
   "execution_count": 49,
   "metadata": {},
   "outputs": [
    {
     "data": {
      "text/plain": [
       "dtype([('t', '<i8'), ('eps_id', '<i8')])"
      ]
     },
     "execution_count": 49,
     "metadata": {},
     "output_type": "execute_result"
    }
   ],
   "source": [
    "abd.dtype"
   ]
  },
  {
   "cell_type": "code",
   "execution_count": 54,
   "metadata": {},
   "outputs": [
    {
     "data": {
      "text/plain": [
       "array([False, False, False, False, False,  True, False, False, False,\n",
       "       False, False,  True, False,  True, False, False, False,  True,\n",
       "       False, False, False, False, False,  True, False, False, False,\n",
       "       False, False,  True,  True, False, False, False,  True, False,\n",
       "       False, False,  True, False, False, False,  True, False, False,\n",
       "        True,  True, False,  True, False, False, False, False, False,\n",
       "       False, False, False, False,  True, False, False, False,  True,\n",
       "       False,  True, False, False, False, False, False, False, False,\n",
       "       False,  True, False, False, False,  True, False, False, False,\n",
       "       False,  True, False, False, False, False,  True,  True, False,\n",
       "       False, False, False, False, False,  True, False, False, False,\n",
       "       False,  True, False, False,  True, False, False, False, False,\n",
       "       False, False, False, False, False, False, False, False, False,\n",
       "       False, False,  True, False,  True,  True,  True,  True, False,\n",
       "       False, False, False, False, False, False,  True,  True, False,\n",
       "       False, False, False, False,  True, False, False,  True, False,\n",
       "       False, False,  True, False, False, False, False,  True,  True,\n",
       "       False, False, False, False, False, False, False,  True, False,\n",
       "        True,  True,  True, False, False,  True,  True, False,  True,\n",
       "       False, False, False, False,  True, False, False, False,  True,\n",
       "       False, False, False, False,  True, False, False,  True, False,\n",
       "       False, False, False, False, False,  True, False,  True, False,\n",
       "       False,  True, False, False, False, False, False, False, False,\n",
       "       False,  True, False,  True, False, False, False, False, False,\n",
       "        True, False, False, False, False, False, False, False,  True,\n",
       "       False, False, False, False, False, False,  True, False, False,\n",
       "       False, False,  True,  True, False, False, False, False, False,\n",
       "        True, False,  True, False, False, False, False, False, False,\n",
       "       False, False,  True, False, False, False,  True, False, False,\n",
       "       False, False, False, False, False, False,  True,  True,  True,\n",
       "       False, False, False,  True,  True, False, False, False, False,\n",
       "       False, False, False,  True, False, False, False, False,  True,\n",
       "       False, False, False,  True, False, False, False, False, False,\n",
       "       False, False,  True,  True, False,  True, False, False, False,\n",
       "        True, False,  True,  True, False,  True, False,  True, False,\n",
       "        True,  True, False, False,  True, False, False, False, False,\n",
       "        True,  True,  True, False, False, False, False,  True, False,\n",
       "        True, False, False, False,  True, False, False, False,  True,\n",
       "       False, False, False, False,  True, False, False,  True,  True,\n",
       "       False, False,  True,  True, False, False, False, False,  True,\n",
       "       False, False, False, False,  True, False, False, False, False,\n",
       "       False, False, False,  True, False,  True, False, False, False,\n",
       "       False,  True, False,  True, False, False, False, False, False,\n",
       "       False, False,  True, False, False])"
      ]
     },
     "execution_count": 54,
     "metadata": {},
     "output_type": "execute_result"
    }
   ],
   "source": [
    "np.in1d(abd, ad, assume_unique=True)"
   ]
  },
  {
   "cell_type": "code",
   "execution_count": 12,
   "metadata": {},
   "outputs": [],
   "source": [
    "a = np.random.randn(100, 5)"
   ]
  },
  {
   "cell_type": "code",
   "execution_count": 13,
   "metadata": {},
   "outputs": [],
   "source": [
    "b = np.asarray([True, True, False, False, True])"
   ]
  },
  {
   "cell_type": "code",
   "execution_count": 14,
   "metadata": {},
   "outputs": [
    {
     "data": {
      "text/plain": [
       "array([[-5.56414126e-01, -1.74902310e+00,  1.49874680e+00],\n",
       "       [-7.38107871e-01,  9.61967494e-01, -2.32027920e+00],\n",
       "       [ 1.93359491e+00,  1.31940935e-02, -3.24851543e-01],\n",
       "       [ 1.22361105e+00, -9.61466765e-01, -1.40473845e-01],\n",
       "       [ 4.69164098e-01, -2.28038311e-01,  2.31410238e-01],\n",
       "       [ 5.40335236e-01,  2.80615537e-01,  7.01589919e-01],\n",
       "       [-1.53311739e-01,  8.76722846e-01, -3.68086125e-01],\n",
       "       [ 8.69332940e-01, -4.50915464e-01, -9.93972241e-01],\n",
       "       [ 2.10399395e-01,  1.14872790e-01,  1.12736124e+00],\n",
       "       [ 4.43099447e-01, -1.20839054e-02,  8.27587453e-01],\n",
       "       [ 1.11988549e+00, -1.26733832e-01,  7.97104450e-01],\n",
       "       [-1.74910931e+00, -1.56615801e+00,  4.91947228e-01],\n",
       "       [ 1.42232065e+00, -3.21401669e-01,  3.83503981e-01],\n",
       "       [-2.62359923e-01,  7.47528314e-01, -6.94881461e-02],\n",
       "       [-1.23358624e+00, -6.36771393e-02, -1.09382316e+00],\n",
       "       [-7.18915695e-01,  1.21613107e+00,  1.41941726e+00],\n",
       "       [ 8.37337736e-01,  8.42015162e-01,  9.70442543e-01],\n",
       "       [ 2.77473855e-02,  8.67083962e-01, -9.15106300e-01],\n",
       "       [-6.09942581e-01, -1.25241293e+00,  1.57596848e-01],\n",
       "       [-5.24084210e-01, -9.78983012e-01,  1.11671344e+00],\n",
       "       [-3.66501142e-01, -1.12678802e+00,  1.61253281e+00],\n",
       "       [ 6.95747678e-01,  2.85177306e-01,  1.49109642e+00],\n",
       "       [-1.56312143e+00,  1.00723337e+00,  1.38904511e+00],\n",
       "       [ 8.38520843e-01, -5.19038783e-01,  1.69745195e-01],\n",
       "       [-6.09653941e-01,  1.06678812e+00,  1.26340565e+00],\n",
       "       [-1.28833849e+00, -1.51465587e+00,  1.32347829e-01],\n",
       "       [ 5.20984550e-02,  1.59294907e+00, -1.71773739e+00],\n",
       "       [ 5.89036896e-01,  4.52254618e-01,  2.13923405e+00],\n",
       "       [-8.32726765e-01, -2.88626565e-01,  1.29145419e+00],\n",
       "       [-6.77288330e-01, -1.27396692e+00,  1.47416365e+00],\n",
       "       [-1.99539442e-01, -4.20521871e-01,  2.49637872e+00],\n",
       "       [-7.83146606e-01,  2.62610038e-01, -1.58376042e-01],\n",
       "       [ 5.16344520e-01,  1.55218206e+00,  1.23140111e+00],\n",
       "       [-8.72099554e-01, -1.02763394e-01,  2.12108721e-01],\n",
       "       [-1.24759074e+00, -2.09609336e+00,  4.04106075e-01],\n",
       "       [ 1.91038661e-01,  3.78496188e-01,  2.07320708e+00],\n",
       "       [ 8.01364395e-01, -8.55165259e-01,  9.58608221e-01],\n",
       "       [-3.17688336e-01,  1.33820009e+00,  2.39407493e-01],\n",
       "       [-1.45760297e+00,  1.11624334e+00,  1.21405092e+00],\n",
       "       [ 2.41587719e-01, -9.64186741e-01, -1.26273277e+00],\n",
       "       [-1.22385753e+00, -2.25151605e+00,  1.61220957e+00],\n",
       "       [ 3.24103659e-01, -8.23952567e-01,  1.74990901e-01],\n",
       "       [-1.54533668e-01, -6.87670197e-01,  2.71729239e-01],\n",
       "       [-1.30923876e+00,  1.11605195e+00,  9.17300310e-01],\n",
       "       [-5.29629362e-01,  4.11612584e-01,  1.25579608e+00],\n",
       "       [ 1.31393532e-01,  1.16873388e+00,  9.69384604e-02],\n",
       "       [ 5.59840898e-01, -1.22729464e+00,  2.29589449e+00],\n",
       "       [-1.11778361e+00, -5.07602269e-01, -1.08588080e+00],\n",
       "       [ 3.19591830e-01, -1.42039254e+00,  2.04857864e-01],\n",
       "       [-8.10385770e-01, -9.64324176e-02, -8.45108050e-01],\n",
       "       [ 1.67481319e+00, -7.27225015e-01,  7.82501475e-01],\n",
       "       [ 1.83153131e-01,  9.69565350e-01,  1.36198121e+00],\n",
       "       [ 6.68470302e-01, -6.45826075e-01,  5.84820628e-01],\n",
       "       [-2.48001622e-01,  3.88906296e-01, -1.10974058e+00],\n",
       "       [-1.12395178e+00, -1.00071516e-01,  9.34407905e-02],\n",
       "       [ 6.28309394e-01,  3.53500390e-01,  4.82589735e-01],\n",
       "       [ 1.11214851e+00,  7.94666934e-01,  5.17584567e-03],\n",
       "       [ 1.19057483e+00, -5.55759405e-01, -9.75720139e-01],\n",
       "       [ 1.15098009e+00,  2.60163447e-03, -6.01856037e-02],\n",
       "       [-2.69851367e-01, -8.25688769e-01,  5.13782174e-01],\n",
       "       [-9.28209426e-02, -9.31995709e-02,  1.48327244e+00],\n",
       "       [ 6.15697517e-02, -4.58867755e-01,  5.26349557e-01],\n",
       "       [-2.21390075e+00, -1.97107644e+00, -1.48946946e+00],\n",
       "       [-1.51566548e+00, -1.84096796e+00, -5.51163078e-01],\n",
       "       [-6.83168431e-01, -1.45127362e+00,  5.07052020e-01],\n",
       "       [ 1.60864656e+00, -9.18875574e-02, -1.34855334e+00],\n",
       "       [ 6.79379705e-01, -8.78324951e-01, -1.04660576e+00],\n",
       "       [-4.86066017e-01,  5.44371748e-01, -9.50871803e-01],\n",
       "       [-9.44955290e-01, -3.96625271e-01, -7.82273676e-01],\n",
       "       [-1.25355829e-01,  1.89404586e-02, -1.01239335e+00],\n",
       "       [ 3.91431848e-01,  4.41115326e-01, -6.66041062e-01],\n",
       "       [-6.97988495e-01,  3.71945375e-01,  9.19292843e-01],\n",
       "       [ 1.08949948e+00,  9.29467761e-01, -4.28169037e-03],\n",
       "       [-2.09281520e-01, -2.38981649e+00,  5.50746461e-01],\n",
       "       [ 9.32282810e-01, -4.49491730e-01,  1.25660918e+00],\n",
       "       [ 1.31404798e+00,  9.60933590e-01, -1.86190475e-01],\n",
       "       [-1.15827921e-01,  4.47902677e-01, -9.90759798e-01],\n",
       "       [-1.72429859e-01,  7.15649568e-01, -2.30011612e-01],\n",
       "       [ 7.17616326e-01, -1.19663580e+00, -1.33257834e+00],\n",
       "       [ 1.02425708e+00,  1.01676351e+00, -5.62795960e-01],\n",
       "       [ 1.21215288e+00,  9.37984957e-01, -4.04068870e-01],\n",
       "       [ 5.50552480e-01, -1.36947294e-01,  1.38060496e-01],\n",
       "       [ 6.70741350e-01,  1.49068054e-01, -1.69122424e+00],\n",
       "       [-2.64207555e-02,  2.46410442e-01, -5.71611033e-01],\n",
       "       [-2.72749507e-01,  1.79731607e-02,  1.21802559e-01],\n",
       "       [-2.03749928e+00, -3.13632818e+00,  1.21291205e-01],\n",
       "       [ 1.75000544e-02,  2.37800344e+00,  4.17497402e-01],\n",
       "       [ 1.63014877e+00,  1.09495104e-01,  5.54947046e-01],\n",
       "       [-5.35894660e-02, -1.33225431e+00,  1.22999770e+00],\n",
       "       [-3.61670241e-01, -1.97182782e-01, -6.16890726e-01],\n",
       "       [-1.15847669e+00, -6.37708295e-01, -7.62779001e-01],\n",
       "       [-2.37641765e+00,  4.43303433e-02,  2.52692721e+00],\n",
       "       [-7.15190029e-01,  4.19449542e-02,  9.22817396e-01],\n",
       "       [-8.90689913e-01,  1.78320100e-01,  1.14020907e+00],\n",
       "       [ 2.29842921e-01, -1.57992330e+00,  7.64623188e-01],\n",
       "       [-3.87066639e-01, -1.28624638e+00, -7.73622077e-01],\n",
       "       [-8.18703410e-01, -1.44682036e+00, -1.38972242e-01],\n",
       "       [-6.28443270e-01,  6.52311512e-03, -1.16972918e-01],\n",
       "       [ 5.51418034e-03, -1.00706680e+00,  8.98561395e-01],\n",
       "       [-1.03086148e+00, -2.77099210e-01, -1.18756278e+00]])"
      ]
     },
     "execution_count": 14,
     "metadata": {},
     "output_type": "execute_result"
    }
   ],
   "source": [
    "a[:, b]"
   ]
  },
  {
   "cell_type": "code",
   "execution_count": 15,
   "metadata": {},
   "outputs": [],
   "source": [
    "from gymnasium import spaces"
   ]
  },
  {
   "cell_type": "code",
   "execution_count": 52,
   "metadata": {},
   "outputs": [],
   "source": [
    "uf = spaces.Dict({\n",
    "    'a': spaces.Box(-1, 1, shape=(1, )),\n",
    "    'b': spaces.Box(-1, 1, shape=(1, )),\n",
    "})"
   ]
  },
  {
   "cell_type": "code",
   "execution_count": 53,
   "metadata": {},
   "outputs": [
    {
     "data": {
      "text/plain": [
       "Dict('a': Box(-1.0, 1.0, (100, 1), float32), 'b': Box(-1.0, 1.0, (100, 1), float32))"
      ]
     },
     "execution_count": 53,
     "metadata": {},
     "output_type": "execute_result"
    }
   ],
   "source": [
    "batch_space(uf, 100)"
   ]
  },
  {
   "cell_type": "code",
   "execution_count": 43,
   "metadata": {},
   "outputs": [],
   "source": [
    "test = {\n",
    "    'a': np.random.randn(100, ),\n",
    "    'b': np.random.randn(100, ),\n",
    "}"
   ]
  },
  {
   "cell_type": "code",
   "execution_count": 44,
   "metadata": {},
   "outputs": [
    {
     "data": {
      "text/plain": [
       "(200,)"
      ]
     },
     "execution_count": 44,
     "metadata": {},
     "output_type": "execute_result"
    }
   ],
   "source": [
    "spaces.flatten(uf, test).shape"
   ]
  },
  {
   "cell_type": "code",
   "execution_count": 27,
   "metadata": {},
   "outputs": [
    {
     "data": {
      "text/plain": [
       "Box(-1.0, 1.0, (2,), float32)"
      ]
     },
     "execution_count": 27,
     "metadata": {},
     "output_type": "execute_result"
    }
   ],
   "source": [
    "spaces.flatten_space(uf)"
   ]
  },
  {
   "cell_type": "code",
   "execution_count": 39,
   "metadata": {},
   "outputs": [],
   "source": [
    "from gymnasium.vector.utils import batch_space, iterate, concatenate, create_empty_array"
   ]
  },
  {
   "cell_type": "code",
   "execution_count": 29,
   "metadata": {},
   "outputs": [
    {
     "data": {
      "text/plain": [
       "Dict('a': Box(-1.0, 1.0, (100, 1), float32), 'b': Box(-1.0, 1.0, (100, 1), float32))"
      ]
     },
     "execution_count": 29,
     "metadata": {},
     "output_type": "execute_result"
    }
   ],
   "source": [
    "batch_space(uf, 100)"
   ]
  },
  {
   "cell_type": "code",
   "execution_count": 46,
   "metadata": {},
   "outputs": [],
   "source": [
    "f = spaces.flatten_space(uf)"
   ]
  },
  {
   "cell_type": "code",
   "execution_count": 31,
   "metadata": {},
   "outputs": [
    {
     "data": {
      "text/plain": [
       "(200,)"
      ]
     },
     "execution_count": 31,
     "metadata": {},
     "output_type": "execute_result"
    }
   ],
   "source": [
    "spaces.flatten(batch_space(uf, 100), test).shape"
   ]
  },
  {
   "cell_type": "code",
   "execution_count": null,
   "metadata": {},
   "outputs": [],
   "source": [
    "concatenate(uf, list(iterate(f, )))"
   ]
  },
  {
   "cell_type": "code",
   "execution_count": 45,
   "metadata": {},
   "outputs": [
    {
     "ename": "ValueError",
     "evalue": "Output array has wrong dimensionality",
     "output_type": "error",
     "traceback": [
      "\u001b[0;31m---------------------------------------------------------------------------\u001b[0m",
      "\u001b[0;31mValueError\u001b[0m                                Traceback (most recent call last)",
      "Cell \u001b[0;32mIn[45], line 1\u001b[0m\n\u001b[0;32m----> 1\u001b[0m concatenate(uf, iterate(uf, test), create_empty_array(uf, \u001b[39m100\u001b[39;49m))\n",
      "File \u001b[0;32m~/.conda/envs/forl-proj/lib/python3.10/functools.py:889\u001b[0m, in \u001b[0;36msingledispatch.<locals>.wrapper\u001b[0;34m(*args, **kw)\u001b[0m\n\u001b[1;32m    885\u001b[0m \u001b[39mif\u001b[39;00m \u001b[39mnot\u001b[39;00m args:\n\u001b[1;32m    886\u001b[0m     \u001b[39mraise\u001b[39;00m \u001b[39mTypeError\u001b[39;00m(\u001b[39mf\u001b[39m\u001b[39m'\u001b[39m\u001b[39m{\u001b[39;00mfuncname\u001b[39m}\u001b[39;00m\u001b[39m requires at least \u001b[39m\u001b[39m'\u001b[39m\n\u001b[1;32m    887\u001b[0m                     \u001b[39m'\u001b[39m\u001b[39m1 positional argument\u001b[39m\u001b[39m'\u001b[39m)\n\u001b[0;32m--> 889\u001b[0m \u001b[39mreturn\u001b[39;00m dispatch(args[\u001b[39m0\u001b[39;49m]\u001b[39m.\u001b[39;49m\u001b[39m__class__\u001b[39;49m)(\u001b[39m*\u001b[39;49margs, \u001b[39m*\u001b[39;49m\u001b[39m*\u001b[39;49mkw)\n",
      "File \u001b[0;32m~/.conda/envs/forl-proj/lib/python3.10/site-packages/gymnasium/vector/utils/numpy_utils.py:72\u001b[0m, in \u001b[0;36m_concatenate_dict\u001b[0;34m(space, items, out)\u001b[0m\n\u001b[1;32m     69\u001b[0m \u001b[39m@concatenate\u001b[39m\u001b[39m.\u001b[39mregister(Dict)\n\u001b[1;32m     70\u001b[0m \u001b[39mdef\u001b[39;00m \u001b[39m_concatenate_dict\u001b[39m(space, items, out):\n\u001b[1;32m     71\u001b[0m     \u001b[39mreturn\u001b[39;00m OrderedDict(\n\u001b[0;32m---> 72\u001b[0m         [\n\u001b[1;32m     73\u001b[0m             (key, concatenate(subspace, [item[key] \u001b[39mfor\u001b[39;00m item \u001b[39min\u001b[39;00m items], out[key]))\n\u001b[1;32m     74\u001b[0m             \u001b[39mfor\u001b[39;00m (key, subspace) \u001b[39min\u001b[39;00m space\u001b[39m.\u001b[39mspaces\u001b[39m.\u001b[39mitems()\n\u001b[1;32m     75\u001b[0m         ]\n\u001b[1;32m     76\u001b[0m     )\n",
      "File \u001b[0;32m~/.conda/envs/forl-proj/lib/python3.10/site-packages/gymnasium/vector/utils/numpy_utils.py:73\u001b[0m, in \u001b[0;36m<listcomp>\u001b[0;34m(.0)\u001b[0m\n\u001b[1;32m     69\u001b[0m \u001b[39m@concatenate\u001b[39m\u001b[39m.\u001b[39mregister(Dict)\n\u001b[1;32m     70\u001b[0m \u001b[39mdef\u001b[39;00m \u001b[39m_concatenate_dict\u001b[39m(space, items, out):\n\u001b[1;32m     71\u001b[0m     \u001b[39mreturn\u001b[39;00m OrderedDict(\n\u001b[1;32m     72\u001b[0m         [\n\u001b[0;32m---> 73\u001b[0m             (key, concatenate(subspace, [item[key] \u001b[39mfor\u001b[39;49;00m item \u001b[39min\u001b[39;49;00m items], out[key]))\n\u001b[1;32m     74\u001b[0m             \u001b[39mfor\u001b[39;00m (key, subspace) \u001b[39min\u001b[39;00m space\u001b[39m.\u001b[39mspaces\u001b[39m.\u001b[39mitems()\n\u001b[1;32m     75\u001b[0m         ]\n\u001b[1;32m     76\u001b[0m     )\n",
      "File \u001b[0;32m~/.conda/envs/forl-proj/lib/python3.10/functools.py:889\u001b[0m, in \u001b[0;36msingledispatch.<locals>.wrapper\u001b[0;34m(*args, **kw)\u001b[0m\n\u001b[1;32m    885\u001b[0m \u001b[39mif\u001b[39;00m \u001b[39mnot\u001b[39;00m args:\n\u001b[1;32m    886\u001b[0m     \u001b[39mraise\u001b[39;00m \u001b[39mTypeError\u001b[39;00m(\u001b[39mf\u001b[39m\u001b[39m'\u001b[39m\u001b[39m{\u001b[39;00mfuncname\u001b[39m}\u001b[39;00m\u001b[39m requires at least \u001b[39m\u001b[39m'\u001b[39m\n\u001b[1;32m    887\u001b[0m                     \u001b[39m'\u001b[39m\u001b[39m1 positional argument\u001b[39m\u001b[39m'\u001b[39m)\n\u001b[0;32m--> 889\u001b[0m \u001b[39mreturn\u001b[39;00m dispatch(args[\u001b[39m0\u001b[39;49m]\u001b[39m.\u001b[39;49m\u001b[39m__class__\u001b[39;49m)(\u001b[39m*\u001b[39;49margs, \u001b[39m*\u001b[39;49m\u001b[39m*\u001b[39;49mkw)\n",
      "File \u001b[0;32m~/.conda/envs/forl-proj/lib/python3.10/site-packages/gymnasium/vector/utils/numpy_utils.py:58\u001b[0m, in \u001b[0;36m_concatenate_base\u001b[0;34m(space, items, out)\u001b[0m\n\u001b[1;32m     53\u001b[0m \u001b[39m@concatenate\u001b[39m\u001b[39m.\u001b[39mregister(Box)\n\u001b[1;32m     54\u001b[0m \u001b[39m@concatenate\u001b[39m\u001b[39m.\u001b[39mregister(Discrete)\n\u001b[1;32m     55\u001b[0m \u001b[39m@concatenate\u001b[39m\u001b[39m.\u001b[39mregister(MultiDiscrete)\n\u001b[1;32m     56\u001b[0m \u001b[39m@concatenate\u001b[39m\u001b[39m.\u001b[39mregister(MultiBinary)\n\u001b[1;32m     57\u001b[0m \u001b[39mdef\u001b[39;00m \u001b[39m_concatenate_base\u001b[39m(space, items, out):\n\u001b[0;32m---> 58\u001b[0m     \u001b[39mreturn\u001b[39;00m np\u001b[39m.\u001b[39;49mstack(items, axis\u001b[39m=\u001b[39;49m\u001b[39m0\u001b[39;49m, out\u001b[39m=\u001b[39;49mout)\n",
      "File \u001b[0;32m<__array_function__ internals>:180\u001b[0m, in \u001b[0;36mstack\u001b[0;34m(*args, **kwargs)\u001b[0m\n",
      "File \u001b[0;32m~/.conda/envs/forl-proj/lib/python3.10/site-packages/numpy/core/shape_base.py:433\u001b[0m, in \u001b[0;36mstack\u001b[0;34m(arrays, axis, out)\u001b[0m\n\u001b[1;32m    431\u001b[0m sl \u001b[39m=\u001b[39m (\u001b[39mslice\u001b[39m(\u001b[39mNone\u001b[39;00m),) \u001b[39m*\u001b[39m axis \u001b[39m+\u001b[39m (_nx\u001b[39m.\u001b[39mnewaxis,)\n\u001b[1;32m    432\u001b[0m expanded_arrays \u001b[39m=\u001b[39m [arr[sl] \u001b[39mfor\u001b[39;00m arr \u001b[39min\u001b[39;00m arrays]\n\u001b[0;32m--> 433\u001b[0m \u001b[39mreturn\u001b[39;00m _nx\u001b[39m.\u001b[39;49mconcatenate(expanded_arrays, axis\u001b[39m=\u001b[39;49maxis, out\u001b[39m=\u001b[39;49mout)\n",
      "File \u001b[0;32m<__array_function__ internals>:180\u001b[0m, in \u001b[0;36mconcatenate\u001b[0;34m(*args, **kwargs)\u001b[0m\n",
      "\u001b[0;31mValueError\u001b[0m: Output array has wrong dimensionality"
     ]
    }
   ],
   "source": [
    "concatenate(uf, iterate(uf, test), create_empty_array(uf, 100))"
   ]
  },
  {
   "cell_type": "code",
   "execution_count": 2,
   "metadata": {},
   "outputs": [],
   "source": [
    "import numpy as np\n",
    "def discounted_cumsum_factor_matrix(\n",
    "    eps_id: np.ndarray,\n",
    "    t: np.ndarray,\n",
    "    gamma: float = 1.0,\n",
    ") -> np.ndarray:\n",
    "    \"\"\"\n",
    "    Given a batch of length T, return a TxT matrix of following element\n",
    "    M_ij = gamma^{t_j - t_i} if t_j >= t_i and they are of same episode, else 0\n",
    "    \"\"\"\n",
    "    t_diff = t.reshape(1, -1) - t.reshape(-1, 1)\n",
    "    return np.power(gamma, t_diff) * (t_diff >= 0) * (eps_id.reshape(-1, 1) == eps_id.reshape(1, -1))"
   ]
  },
  {
   "cell_type": "code",
   "execution_count": 7,
   "metadata": {},
   "outputs": [
    {
     "data": {
      "text/plain": [
       "(array([0, 1, 2, 3, 4, 5, 6, 7, 8, 9, 0, 1, 2, 3, 4, 5, 6, 7, 8, 9]),\n",
       " array([0, 0, 0, 0, 0, 0, 0, 0, 0, 0, 1, 1, 1, 1, 1, 1, 1, 1, 1, 1]))"
      ]
     },
     "execution_count": 7,
     "metadata": {},
     "output_type": "execute_result"
    }
   ],
   "source": [
    "t = np.arange(10)\n",
    "eps = np.zeros_like(t)\n",
    "t = np.concatenate([t, t])\n",
    "eps = np.concatenate([eps, eps + 1])\n",
    "t, eps"
   ]
  },
  {
   "cell_type": "code",
   "execution_count": 9,
   "metadata": {},
   "outputs": [
    {
     "data": {
      "text/plain": [
       "array([[1.        , 0.99      , 0.9801    , 0.970299  , 0.96059601,\n",
       "        0.95099005, 0.94148015, 0.93206535, 0.92274469, 0.91351725,\n",
       "        0.        , 0.        , 0.        , 0.        , 0.        ,\n",
       "        0.        , 0.        , 0.        , 0.        , 0.        ],\n",
       "       [0.        , 1.        , 0.99      , 0.9801    , 0.970299  ,\n",
       "        0.96059601, 0.95099005, 0.94148015, 0.93206535, 0.92274469,\n",
       "        0.        , 0.        , 0.        , 0.        , 0.        ,\n",
       "        0.        , 0.        , 0.        , 0.        , 0.        ],\n",
       "       [0.        , 0.        , 1.        , 0.99      , 0.9801    ,\n",
       "        0.970299  , 0.96059601, 0.95099005, 0.94148015, 0.93206535,\n",
       "        0.        , 0.        , 0.        , 0.        , 0.        ,\n",
       "        0.        , 0.        , 0.        , 0.        , 0.        ],\n",
       "       [0.        , 0.        , 0.        , 1.        , 0.99      ,\n",
       "        0.9801    , 0.970299  , 0.96059601, 0.95099005, 0.94148015,\n",
       "        0.        , 0.        , 0.        , 0.        , 0.        ,\n",
       "        0.        , 0.        , 0.        , 0.        , 0.        ],\n",
       "       [0.        , 0.        , 0.        , 0.        , 1.        ,\n",
       "        0.99      , 0.9801    , 0.970299  , 0.96059601, 0.95099005,\n",
       "        0.        , 0.        , 0.        , 0.        , 0.        ,\n",
       "        0.        , 0.        , 0.        , 0.        , 0.        ],\n",
       "       [0.        , 0.        , 0.        , 0.        , 0.        ,\n",
       "        1.        , 0.99      , 0.9801    , 0.970299  , 0.96059601,\n",
       "        0.        , 0.        , 0.        , 0.        , 0.        ,\n",
       "        0.        , 0.        , 0.        , 0.        , 0.        ],\n",
       "       [0.        , 0.        , 0.        , 0.        , 0.        ,\n",
       "        0.        , 1.        , 0.99      , 0.9801    , 0.970299  ,\n",
       "        0.        , 0.        , 0.        , 0.        , 0.        ,\n",
       "        0.        , 0.        , 0.        , 0.        , 0.        ],\n",
       "       [0.        , 0.        , 0.        , 0.        , 0.        ,\n",
       "        0.        , 0.        , 1.        , 0.99      , 0.9801    ,\n",
       "        0.        , 0.        , 0.        , 0.        , 0.        ,\n",
       "        0.        , 0.        , 0.        , 0.        , 0.        ],\n",
       "       [0.        , 0.        , 0.        , 0.        , 0.        ,\n",
       "        0.        , 0.        , 0.        , 1.        , 0.99      ,\n",
       "        0.        , 0.        , 0.        , 0.        , 0.        ,\n",
       "        0.        , 0.        , 0.        , 0.        , 0.        ],\n",
       "       [0.        , 0.        , 0.        , 0.        , 0.        ,\n",
       "        0.        , 0.        , 0.        , 0.        , 1.        ,\n",
       "        0.        , 0.        , 0.        , 0.        , 0.        ,\n",
       "        0.        , 0.        , 0.        , 0.        , 0.        ],\n",
       "       [0.        , 0.        , 0.        , 0.        , 0.        ,\n",
       "        0.        , 0.        , 0.        , 0.        , 0.        ,\n",
       "        1.        , 0.99      , 0.9801    , 0.970299  , 0.96059601,\n",
       "        0.95099005, 0.94148015, 0.93206535, 0.92274469, 0.91351725],\n",
       "       [0.        , 0.        , 0.        , 0.        , 0.        ,\n",
       "        0.        , 0.        , 0.        , 0.        , 0.        ,\n",
       "        0.        , 1.        , 0.99      , 0.9801    , 0.970299  ,\n",
       "        0.96059601, 0.95099005, 0.94148015, 0.93206535, 0.92274469],\n",
       "       [0.        , 0.        , 0.        , 0.        , 0.        ,\n",
       "        0.        , 0.        , 0.        , 0.        , 0.        ,\n",
       "        0.        , 0.        , 1.        , 0.99      , 0.9801    ,\n",
       "        0.970299  , 0.96059601, 0.95099005, 0.94148015, 0.93206535],\n",
       "       [0.        , 0.        , 0.        , 0.        , 0.        ,\n",
       "        0.        , 0.        , 0.        , 0.        , 0.        ,\n",
       "        0.        , 0.        , 0.        , 1.        , 0.99      ,\n",
       "        0.9801    , 0.970299  , 0.96059601, 0.95099005, 0.94148015],\n",
       "       [0.        , 0.        , 0.        , 0.        , 0.        ,\n",
       "        0.        , 0.        , 0.        , 0.        , 0.        ,\n",
       "        0.        , 0.        , 0.        , 0.        , 1.        ,\n",
       "        0.99      , 0.9801    , 0.970299  , 0.96059601, 0.95099005],\n",
       "       [0.        , 0.        , 0.        , 0.        , 0.        ,\n",
       "        0.        , 0.        , 0.        , 0.        , 0.        ,\n",
       "        0.        , 0.        , 0.        , 0.        , 0.        ,\n",
       "        1.        , 0.99      , 0.9801    , 0.970299  , 0.96059601],\n",
       "       [0.        , 0.        , 0.        , 0.        , 0.        ,\n",
       "        0.        , 0.        , 0.        , 0.        , 0.        ,\n",
       "        0.        , 0.        , 0.        , 0.        , 0.        ,\n",
       "        0.        , 1.        , 0.99      , 0.9801    , 0.970299  ],\n",
       "       [0.        , 0.        , 0.        , 0.        , 0.        ,\n",
       "        0.        , 0.        , 0.        , 0.        , 0.        ,\n",
       "        0.        , 0.        , 0.        , 0.        , 0.        ,\n",
       "        0.        , 0.        , 1.        , 0.99      , 0.9801    ],\n",
       "       [0.        , 0.        , 0.        , 0.        , 0.        ,\n",
       "        0.        , 0.        , 0.        , 0.        , 0.        ,\n",
       "        0.        , 0.        , 0.        , 0.        , 0.        ,\n",
       "        0.        , 0.        , 0.        , 1.        , 0.99      ],\n",
       "       [0.        , 0.        , 0.        , 0.        , 0.        ,\n",
       "        0.        , 0.        , 0.        , 0.        , 0.        ,\n",
       "        0.        , 0.        , 0.        , 0.        , 0.        ,\n",
       "        0.        , 0.        , 0.        , 0.        , 1.        ]])"
      ]
     },
     "execution_count": 9,
     "metadata": {},
     "output_type": "execute_result"
    }
   ],
   "source": [
    "discounted_cumsum_factor_matrix(eps, t, 0.99)"
   ]
  },
  {
   "cell_type": "code",
   "execution_count": null,
   "metadata": {},
   "outputs": [],
   "source": []
  }
 ],
 "metadata": {
  "kernelspec": {
   "display_name": "forl-proj",
   "language": "python",
   "name": "python3"
  },
  "language_info": {
   "codemirror_mode": {
    "name": "ipython",
    "version": 3
   },
   "file_extension": ".py",
   "mimetype": "text/x-python",
   "name": "python",
   "nbconvert_exporter": "python",
   "pygments_lexer": "ipython3",
   "version": "3.10.4"
  },
  "orig_nbformat": 4
 },
 "nbformat": 4,
 "nbformat_minor": 2
}
