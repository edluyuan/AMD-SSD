{
 "cells": [
  {
   "cell_type": "code",
   "execution_count": 1,
   "metadata": {},
   "outputs": [],
   "source": [
    "import numpy as np"
   ]
  },
  {
   "cell_type": "code",
   "execution_count": 34,
   "metadata": {},
   "outputs": [],
   "source": [
    "a = np.random.randn(1000, 10, 20)"
   ]
  },
  {
   "cell_type": "code",
   "execution_count": 20,
   "metadata": {},
   "outputs": [],
   "source": [
    "def hash_item(arr: np.ndarray):\n",
    "    return hash(arr.tobytes())"
   ]
  },
  {
   "cell_type": "code",
   "execution_count": 27,
   "metadata": {},
   "outputs": [
    {
     "data": {
      "text/plain": [
       "dtype('float64')"
      ]
     },
     "execution_count": 27,
     "metadata": {},
     "output_type": "execute_result"
    }
   ],
   "source": [
    "# np.apply_over_axes(hash_item, a, [1, 2])\n",
    "a.dtype\n"
   ]
  },
  {
   "cell_type": "code",
   "execution_count": 32,
   "metadata": {},
   "outputs": [
    {
     "ename": "ValueError",
     "evalue": "Changing the dtype to a subarray type is only supported if the total itemsize is unchanged",
     "output_type": "error",
     "traceback": [
      "\u001b[0;31m---------------------------------------------------------------------------\u001b[0m",
      "\u001b[0;31mValueError\u001b[0m                                Traceback (most recent call last)",
      "Cell \u001b[0;32mIn[32], line 1\u001b[0m\n\u001b[0;32m----> 1\u001b[0m a\u001b[39m.\u001b[39;49mcopy()\u001b[39m.\u001b[39;49mview(dtype\u001b[39m=\u001b[39;49mnp\u001b[39m.\u001b[39;49mdtype(\u001b[39m\"\u001b[39;49m\u001b[39m(10,20)f8,\u001b[39;49m\u001b[39m\"\u001b[39;49m))\n",
      "\u001b[0;31mValueError\u001b[0m: Changing the dtype to a subarray type is only supported if the total itemsize is unchanged"
     ]
    }
   ],
   "source": [
    "a.copy().view(dtype=np.dtype(\"(10,20)f8,\"))"
   ]
  },
  {
   "cell_type": "code",
   "execution_count": 43,
   "metadata": {},
   "outputs": [
    {
     "ename": "ValueError",
     "evalue": "When changing to a larger dtype, its size must be a divisor of the total size in bytes of the last axis of the array.",
     "output_type": "error",
     "traceback": [
      "\u001b[0;31m---------------------------------------------------------------------------\u001b[0m",
      "\u001b[0;31mValueError\u001b[0m                                Traceback (most recent call last)",
      "Cell \u001b[0;32mIn[43], line 5\u001b[0m\n\u001b[1;32m      1\u001b[0m dtype \u001b[39m=\u001b[39m {\n\u001b[1;32m      2\u001b[0m     \u001b[39m'\u001b[39m\u001b[39mnames\u001b[39m\u001b[39m'\u001b[39m: [\u001b[39m'\u001b[39m\u001b[39mobs\u001b[39m\u001b[39m'\u001b[39m],\n\u001b[1;32m      3\u001b[0m     \u001b[39m'\u001b[39m\u001b[39mformats\u001b[39m\u001b[39m'\u001b[39m: [\u001b[39m'\u001b[39m\u001b[39m(200,)f4\u001b[39m\u001b[39m'\u001b[39m],\n\u001b[1;32m      4\u001b[0m }\n\u001b[0;32m----> 5\u001b[0m a\u001b[39m.\u001b[39;49mcopy()\u001b[39m.\u001b[39;49mview(dtype)\u001b[39m.\u001b[39mshape\n",
      "\u001b[0;31mValueError\u001b[0m: When changing to a larger dtype, its size must be a divisor of the total size in bytes of the last axis of the array."
     ]
    }
   ],
   "source": [
    "dtype = {\n",
    "    'names': ['obs'],\n",
    "    'formats': ['(200,)f4'],\n",
    "}\n",
    "a.copy().view(dtype).shape"
   ]
  },
  {
   "cell_type": "code",
   "execution_count": 50,
   "metadata": {},
   "outputs": [
    {
     "data": {
      "text/plain": [
       "array([([ 1.67443354,  0.44220773, -1.00369196,  1.96437716, -0.76629035,  0.48591126, -0.99729053, -2.41529776,  0.32953489, -0.66977515, -0.92772141, -1.64154283,  1.40015698, -1.21483556,  1.26308676, -0.51680969, -0.66758424,  1.70648564,  0.35143927,  1.0328416 , -0.64628823, -0.0738453 , -0.33241985,  1.48375624, -1.5179618 , -0.58132223,  1.56128628,  1.76059315, -0.27531898,  0.28906747,  0.42242306,  0.28452578, -0.9466939 ,  0.53032899, -1.70853785, -0.50618505,  0.49165878, -0.0455874 ,  1.2846659 , -1.31585839,  0.03624907, -0.04912018,  0.70145382,  0.13413308,  0.70247161, -0.95125326,  0.1696363 , -0.92834737, -0.83961541,  0.02389455, -2.36251072,  0.34547055, -0.49127586,  1.41474934,  0.1927887 ,  1.56676317, -0.03020305, -1.38335447, -0.40266225,  0.05710906, -0.50711907, -0.94492906, -0.51387964,  0.4842855 , -0.75293432, -0.76440212, -0.03513841, -0.21415203,  0.29039527,  0.25687823,  0.46326332, -0.76605306,  0.6767106 , -0.62635524, -0.15445879, -1.37931816, -0.58239934,  0.86950486,  0.19625728,  0.58887596, -1.40927414, -0.1106037 ,  0.39422095,  2.74531524, -1.17264885, -1.38032451,  0.37313521, -0.41736861, -0.38625688, -0.26238804,  0.28260814, -0.93428636,  0.03913505, -0.20755017, -0.44859004,  1.34177825,  1.64160247,  0.28373063,  0.56753678, -0.37854123, -1.76446426, -0.23119414, -1.09244789, -0.76129861, -0.02448469, -0.76799167, -0.81606825,  2.29909394,  1.2356774 , -1.20613217,  0.56689536, -0.83490294, -0.36699406, -1.3253119 , -0.31725641,  0.83719765, -0.41247846, -1.2193161 , -0.95237877,  1.42636411, -1.51423355,  0.90914474,  0.54969288,  1.70313841,  1.71921922,  0.29936475, -0.48489118, -0.11714556,  0.93455894, -0.58595164,  0.43176345,  1.00843367,  2.42026621, -0.11475865, -0.04190336,  0.66212639,  0.47173415,  0.65292278,  0.3677041 ,  1.0463926 , -0.4016869 ,  0.76825451,  0.27377478,  0.66701959,  0.44299919, -0.8522487 , -0.73978191,  1.71933729,  0.46480374,  1.03491634, -0.64754185, -0.96128954, -0.07250588,  0.19265431, -0.04860998,  0.05920258,  0.69420943,  0.91526338,  0.90708215,  0.90152178,  0.94211036, -0.60291253,  0.69777255,  0.16753531,  0.17174472, -0.60870773,  1.50336748, -1.41146401, -1.69273116, -1.53294721, -0.48138495, -1.38516381,  0.2988493 ,  0.69064028,  0.15503003, -0.15967932,  0.33063848, -1.19241026, -1.28155125,  1.51208186,  0.96517337, -0.07731893,  1.32453362,  0.50576003, -0.67781927,  0.89295625, -1.38196474,  1.26720045,  0.01290675, -0.26010669,  0.44691459,  0.50200632, -0.36114467, -0.23987034,  0.43783578, -0.71317039,  0.0975563 ,  1.01685792, -0.28389751, -1.09985626],)],\n",
       "      dtype=[('obs', '<f8', (200,))])"
      ]
     },
     "execution_count": 50,
     "metadata": {},
     "output_type": "execute_result"
    }
   ],
   "source": [
    "a.reshape(a.shape[0], -1).copy().view({\n",
    "    'names': ['obs'],\n",
    "    'formats': ['(200,)f8'],\n",
    "})[0]"
   ]
  },
  {
   "cell_type": "code",
   "execution_count": 51,
   "metadata": {},
   "outputs": [
    {
     "data": {
      "text/plain": [
       "1600000"
      ]
     },
     "execution_count": 51,
     "metadata": {},
     "output_type": "execute_result"
    }
   ],
   "source": [
    "a[0:].nbytes"
   ]
  },
  {
   "cell_type": "code",
   "execution_count": 53,
   "metadata": {},
   "outputs": [
    {
     "ename": "TypeError",
     "evalue": "data type 'B1600000' not understood",
     "output_type": "error",
     "traceback": [
      "\u001b[0;31m---------------------------------------------------------------------------\u001b[0m",
      "\u001b[0;31mTypeError\u001b[0m                                 Traceback (most recent call last)",
      "Cell \u001b[0;32mIn[53], line 1\u001b[0m\n\u001b[0;32m----> 1\u001b[0m a\u001b[39m.\u001b[39;49mreshape(a\u001b[39m.\u001b[39;49mshape[\u001b[39m0\u001b[39;49m], \u001b[39m-\u001b[39;49m\u001b[39m1\u001b[39;49m)\u001b[39m.\u001b[39;49mcopy()\u001b[39m.\u001b[39;49mview(\u001b[39m'\u001b[39;49m\u001b[39mB1600000\u001b[39;49m\u001b[39m'\u001b[39;49m)\n",
      "\u001b[0;31mTypeError\u001b[0m: data type 'B1600000' not understood"
     ]
    }
   ],
   "source": [
    "a.reshape(a.shape[0], -1).copy().view('B1600000')"
   ]
  },
  {
   "cell_type": "code",
   "execution_count": 56,
   "metadata": {},
   "outputs": [
    {
     "data": {
      "text/plain": [
       "8359687794895389265"
      ]
     },
     "execution_count": 56,
     "metadata": {},
     "output_type": "execute_result"
    }
   ],
   "source": [
    "hash(a.data.tobytes())"
   ]
  },
  {
   "cell_type": "code",
   "execution_count": null,
   "metadata": {},
   "outputs": [],
   "source": [
    "def hash_item(arr: np.ndarray):\n",
    "    return "
   ]
  },
  {
   "cell_type": "code",
   "execution_count": 80,
   "metadata": {},
   "outputs": [
    {
     "data": {
      "text/plain": [
       "array([4, 5, 5, 3, 0, 5, 9, 0, 5, 8])"
      ]
     },
     "execution_count": 80,
     "metadata": {},
     "output_type": "execute_result"
    }
   ],
   "source": [
    "a = np.random.randint(0, 10, (10,))\n",
    "a"
   ]
  },
  {
   "cell_type": "code",
   "execution_count": 81,
   "metadata": {},
   "outputs": [],
   "source": [
    "# %%timeit\n",
    "b = np.apply_along_axis(lambda arr: hash(arr.data.tobytes()), 1, a.reshape(a.shape[0], -1))"
   ]
  },
  {
   "cell_type": "code",
   "execution_count": 82,
   "metadata": {},
   "outputs": [
    {
     "data": {
      "text/plain": [
       "(10,)"
      ]
     },
     "execution_count": 82,
     "metadata": {},
     "output_type": "execute_result"
    }
   ],
   "source": [
    "b.shape"
   ]
  },
  {
   "cell_type": "code",
   "execution_count": 83,
   "metadata": {},
   "outputs": [
    {
     "data": {
      "text/plain": [
       "array([[1., 0., 0., 0., 0., 0., 0., 0., 0., 0.],\n",
       "       [0., 1., 1., 0., 0., 1., 0., 0., 1., 0.],\n",
       "       [0., 1., 1., 0., 0., 1., 0., 0., 1., 0.],\n",
       "       [0., 0., 0., 1., 0., 0., 0., 0., 0., 0.],\n",
       "       [0., 0., 0., 0., 1., 0., 0., 1., 0., 0.],\n",
       "       [0., 1., 1., 0., 0., 1., 0., 0., 1., 0.],\n",
       "       [0., 0., 0., 0., 0., 0., 1., 0., 0., 0.],\n",
       "       [0., 0., 0., 0., 1., 0., 0., 1., 0., 0.],\n",
       "       [0., 1., 1., 0., 0., 1., 0., 0., 1., 0.],\n",
       "       [0., 0., 0., 0., 0., 0., 0., 0., 0., 1.]])"
      ]
     },
     "execution_count": 83,
     "metadata": {},
     "output_type": "execute_result"
    }
   ],
   "source": [
    "(b.reshape(-1, 1) == b.reshape(1, -1)).astype(float)\n"
   ]
  },
  {
   "cell_type": "code",
   "execution_count": null,
   "metadata": {},
   "outputs": [],
   "source": []
  }
 ],
 "metadata": {
  "kernelspec": {
   "display_name": "forl-proj",
   "language": "python",
   "name": "python3"
  },
  "language_info": {
   "codemirror_mode": {
    "name": "ipython",
    "version": 3
   },
   "file_extension": ".py",
   "mimetype": "text/x-python",
   "name": "python",
   "nbconvert_exporter": "python",
   "pygments_lexer": "ipython3",
   "version": "3.10.4"
  },
  "orig_nbformat": 4
 },
 "nbformat": 4,
 "nbformat_minor": 2
}
