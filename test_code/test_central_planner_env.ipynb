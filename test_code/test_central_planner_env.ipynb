{
 "cells": [
  {
   "cell_type": "code",
   "execution_count": 1,
   "metadata": {},
   "outputs": [],
   "source": [
    "# add module\n",
    "import os, sys\n",
    "module_path = os.path.abspath(os.path.join('..'))\n",
    "if module_path not in sys.path:\n",
    "    sys.path.append(module_path)"
   ]
  },
  {
   "cell_type": "code",
   "execution_count": 2,
   "metadata": {},
   "outputs": [
    {
     "name": "stdout",
     "output_type": "stream",
     "text": [
      "pygame 2.3.0 (SDL 2.24.2, Python 3.10.4)\n",
      "Hello from the pygame community. https://www.pygame.org/contribute.html\n"
     ]
    }
   ],
   "source": [
    "from core.environments.wolfpack import WolfpackEnv, wolfpack_env_creator, wolfpack_env_default_config\n",
    "from core.algorithms.amd.wrappers import ParallelEnvWithCentralPlanner, MultiAgentEnvWithCentralPlanner, MultiAgentEnvFromPettingZooParallel\n",
    "from pettingzoo.test import parallel_api_test"
   ]
  },
  {
   "cell_type": "code",
   "execution_count": 3,
   "metadata": {},
   "outputs": [],
   "source": [
    "env_instance = wolfpack_env_creator()\n",
    "env_instance.reset()\n",
    "pass"
   ]
  },
  {
   "cell_type": "code",
   "execution_count": 4,
   "metadata": {},
   "outputs": [
    {
     "data": {
      "text/plain": [
       "({'wolf_1': Box(0, 255, (11, 17, 3), uint8),\n",
       "  'wolf_2': Box(0, 255, (11, 17, 3), uint8),\n",
       "  'prey': Box(0, 255, (11, 17, 3), uint8)},\n",
       " {'wolf_1': Discrete(7), 'wolf_2': Discrete(7), 'prey': Discrete(7)})"
      ]
     },
     "execution_count": 4,
     "metadata": {},
     "output_type": "execute_result"
    }
   ],
   "source": [
    "env_instance.observation_spaces, env_instance.action_spaces"
   ]
  },
  {
   "cell_type": "code",
   "execution_count": 5,
   "metadata": {},
   "outputs": [
    {
     "data": {
      "text/plain": [
       "({'wolf_1': Box(0, 255, (11, 17, 3), uint8),\n",
       "  'wolf_2': Box(0, 255, (11, 17, 3), uint8),\n",
       "  'prey': Box(0, 255, (11, 17, 3), uint8),\n",
       "  'central_planner': Box(0, 255, (20, 20, 3), uint8)},\n",
       " {'wolf_1': Discrete(7),\n",
       "  'wolf_2': Discrete(7),\n",
       "  'prey': Discrete(7),\n",
       "  'central_planner': Box(-1.0, 1.0, (3,), float32)})"
      ]
     },
     "execution_count": 5,
     "metadata": {},
     "output_type": "execute_result"
    }
   ],
   "source": [
    "env_with_central_planner = ParallelEnvWithCentralPlanner(env_instance)\n",
    "env_with_central_planner.observation_spaces, env_with_central_planner.action_spaces"
   ]
  },
  {
   "cell_type": "code",
   "execution_count": 6,
   "metadata": {},
   "outputs": [],
   "source": [
    "# %%timeit\n",
    "# parallel_api_test(env_with_central_planner, num_cycles=100000000) # test OK!   "
   ]
  },
  {
   "cell_type": "code",
   "execution_count": 7,
   "metadata": {},
   "outputs": [],
   "source": [
    "rllib_env = MultiAgentEnvFromPettingZooParallel(env_instance)\n",
    "obs, info = rllib_env.reset()"
   ]
  },
  {
   "cell_type": "code",
   "execution_count": 8,
   "metadata": {},
   "outputs": [
    {
     "data": {
      "text/plain": [
       "(Dict('prey': Box(0, 255, (11, 17, 3), uint8), 'wolf_1': Box(0, 255, (11, 17, 3), uint8), 'wolf_2': Box(0, 255, (11, 17, 3), uint8)),\n",
       " Dict('prey': Discrete(7), 'wolf_1': Discrete(7), 'wolf_2': Discrete(7)))"
      ]
     },
     "execution_count": 8,
     "metadata": {},
     "output_type": "execute_result"
    }
   ],
   "source": [
    "rllib_env.observation_space, rllib_env.action_space"
   ]
  },
  {
   "cell_type": "code",
   "execution_count": 9,
   "metadata": {},
   "outputs": [
    {
     "data": {
      "text/plain": [
       "{}"
      ]
     },
     "execution_count": 9,
     "metadata": {},
     "output_type": "execute_result"
    }
   ],
   "source": [
    "rllib_env.reset()[1]"
   ]
  },
  {
   "cell_type": "code",
   "execution_count": 10,
   "metadata": {},
   "outputs": [],
   "source": [
    "delattr(rllib_env, 'state')\n",
    "rllib_env_with_central_planner = MultiAgentEnvWithCentralPlanner(rllib_env)"
   ]
  },
  {
   "cell_type": "code",
   "execution_count": 11,
   "metadata": {},
   "outputs": [],
   "source": [
    "rllib_env_with_central_planner.reset()\n",
    "pass"
   ]
  },
  {
   "cell_type": "code",
   "execution_count": 12,
   "metadata": {},
   "outputs": [
    {
     "data": {
      "text/plain": [
       "<core.algorithms.amd.wrappers.pettingzoo_env_to_rllib_env.MultiAgentEnvFromPettingZooParallel at 0x7f163bdae020>"
      ]
     },
     "execution_count": 12,
     "metadata": {},
     "output_type": "execute_result"
    }
   ],
   "source": [
    "rllib_env_with_central_planner.unwrapped()"
   ]
  },
  {
   "cell_type": "code",
   "execution_count": 13,
   "metadata": {},
   "outputs": [
    {
     "data": {
      "text/plain": [
       "(Dict('prey': Box(0, 255, (11, 17, 3), uint8), 'wolf_1': Box(0, 255, (11, 17, 3), uint8), 'wolf_2': Box(0, 255, (11, 17, 3), uint8), 'central_planner': Box(0, 255, (1683,), uint8)),\n",
       " Dict('prey': Discrete(7), 'wolf_1': Discrete(7), 'wolf_2': Discrete(7), 'central_planner': Box(-1.0, 1.0, (3,), float32)))"
      ]
     },
     "execution_count": 13,
     "metadata": {},
     "output_type": "execute_result"
    }
   ],
   "source": [
    "rllib_env_with_central_planner.observation_space, rllib_env_with_central_planner.action_space"
   ]
  },
  {
   "cell_type": "code",
   "execution_count": 15,
   "metadata": {},
   "outputs": [
    {
     "data": {
      "text/plain": [
       "True"
      ]
     },
     "execution_count": 15,
     "metadata": {},
     "output_type": "execute_result"
    }
   ],
   "source": [
    "rllib_env_with_central_planner._action_space_in_preferred_format"
   ]
  },
  {
   "cell_type": "code",
   "execution_count": null,
   "metadata": {},
   "outputs": [],
   "source": []
  }
 ],
 "metadata": {
  "kernelspec": {
   "display_name": "forl-proj",
   "language": "python",
   "name": "python3"
  },
  "language_info": {
   "codemirror_mode": {
    "name": "ipython",
    "version": 3
   },
   "file_extension": ".py",
   "mimetype": "text/x-python",
   "name": "python",
   "nbconvert_exporter": "python",
   "pygments_lexer": "ipython3",
   "version": "3.10.4"
  },
  "orig_nbformat": 4
 },
 "nbformat": 4,
 "nbformat_minor": 2
}
